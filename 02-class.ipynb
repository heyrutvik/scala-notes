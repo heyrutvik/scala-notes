{
 "cells": [
  {
   "cell_type": "markdown",
   "id": "eafd7b27-b50e-44aa-a3b1-ec3fe0a8e91b",
   "metadata": {},
   "source": [
    "# Class\n",
    "---\n",
    "\n",
    "- We declare a class to abstract over objects. A class is a \"template\" to create objects, and objects of a class share the same type (same name as class) and have common properties. In the note `01-basics`, we talked about how to declare Singleton objects. It's a useful construct for certain usecases but has this limitation that you may need to define separate object even for the same properties, and even then we won't be able to write a general method to accept any object with those same properties.\n",
    "\n",
    "Let's see an example,"
   ]
  },
  {
   "cell_type": "code",
   "execution_count": 1,
   "id": "85eb5dc5-70eb-454e-bfb8-38a3c3bdafde",
   "metadata": {},
   "outputs": [
    {
     "name": "stdout",
     "output_type": "stream",
     "text": [
      "John greets hi there\n"
     ]
    },
    {
     "data": {
      "text/plain": [
       "defined \u001b[32mobject\u001b[39m \u001b[36mPerson1\u001b[39m\n",
       "defined \u001b[32mfunction\u001b[39m \u001b[36mpersonGreets\u001b[39m"
      ]
     },
     "execution_count": 1,
     "metadata": {},
     "output_type": "execute_result"
    }
   ],
   "source": [
    "object Person1 {\n",
    "  val name = \"John\"\n",
    "  def say(greet: String) = name + \" greets \" + greet\n",
    "}\n",
    "\n",
    "def personGreets(msg: String, p: Person1.type): Unit = println(p.say(msg))\n",
    "\n",
    "personGreets(\"hi there\", Person1)"
   ]
  },
  {
   "cell_type": "code",
   "execution_count": 1,
   "id": "0cd70f47-8ab8-42a2-be3d-5a9e251c82fa",
   "metadata": {},
   "outputs": [
    {
     "name": "stderr",
     "output_type": "stream",
     "text": [
      "cmd1.sc:6: type mismatch;\n",
      " found   : ammonite.$sess.cmd1.Helper.Person2.type\n",
      " required: ammonite.$sess.cmd0.instance.Person1.type\n",
      "val res1_1 = personGreets(\"hi there\", Person2)\n",
      "                                      ^Compilation Failed"
     ]
    },
    {
     "ename": "",
     "evalue": "",
     "output_type": "error",
     "traceback": [
      "Compilation Failed"
     ]
    }
   ],
   "source": [
    "object Person2 {\n",
    "  val name = \"John\"\n",
    "  def say(greet: String) = name + \" greets \" + greet\n",
    "}\n",
    "\n",
    "personGreets(\"hi there\", Person2)"
   ]
  },
  {
   "cell_type": "markdown",
   "id": "37573f56-cd7b-4d4f-81a9-f38ca6c0ee3f",
   "metadata": {},
   "source": [
    "We can notice two issues in above example,\n",
    "\n",
    "1) we had to write down two objects even though they share same \"structure\" (no code re-usability)\n",
    "2) `personGreets` method couldn't accept `Person2` object even though it has all required properties (different type)\n",
    "\n",
    "We can solve this problem with `class` construct. As mentioned, class provides general structure for objects (issue #1 resolved), and all objects of the class have the same type (issue #2 resolved)"
   ]
  },
  {
   "cell_type": "code",
   "execution_count": 2,
   "id": "2fdb91fe-f8cf-4837-be1c-23b49ebe941d",
   "metadata": {},
   "outputs": [
    {
     "data": {
      "text/plain": [
       "defined \u001b[32mclass\u001b[39m \u001b[36mPerson\u001b[39m"
      ]
     },
     "execution_count": 2,
     "metadata": {},
     "output_type": "execute_result"
    }
   ],
   "source": [
    "class Person {\n",
    "    val name = \"John\"\n",
    "    def say(greet: String) = name + \" greets \" + greet\n",
    "}"
   ]
  },
  {
   "cell_type": "markdown",
   "id": "d76de835-2513-429e-ad3d-509c7f9853f2",
   "metadata": {},
   "source": [
    "Notice that it has same syntax as for declraing an `object`, but unlike object, we can't use class name in an expression and like an object declaration, a class declaration binds a name and it's not an expression.\n",
    "\n",
    "- we can construct new `instances` of a class using `new` operator.\n",
    "\n",
    "Let's create two new objects and create general method to take any instance of type `Person` to print the greeting message."
   ]
  },
  {
   "cell_type": "code",
   "execution_count": 3,
   "id": "a92c9bdd-c346-41a6-a967-173c72e8d4a2",
   "metadata": {},
   "outputs": [
    {
     "name": "stdout",
     "output_type": "stream",
     "text": [
      "John greets hi there\n",
      "John greets hi there\n"
     ]
    },
    {
     "data": {
      "text/plain": [
       "\u001b[36mjohn1\u001b[39m: \u001b[32mPerson\u001b[39m = ammonite.$sess.cmd1$Helper$Person@49cf12ab\n",
       "\u001b[36mjohn2\u001b[39m: \u001b[32mPerson\u001b[39m = ammonite.$sess.cmd1$Helper$Person@7b0db6c9\n",
       "defined \u001b[32mfunction\u001b[39m \u001b[36mpersonGreets\u001b[39m"
      ]
     },
     "execution_count": 3,
     "metadata": {},
     "output_type": "execute_result"
    }
   ],
   "source": [
    "val john1: Person = new Person // created object from class\n",
    "val john2: Person = new Person // created another object from class\n",
    "\n",
    "def personGreets(msg: String, p: Person): Unit = println(p.say(msg))\n",
    "\n",
    "personGreets(\"hi there\", john1)\n",
    "personGreets(\"hi there\", john2)"
   ]
  },
  {
   "cell_type": "markdown",
   "id": "47ea5e87-48ac-4dd7-8fa2-950dc332b11a",
   "metadata": {},
   "source": [
    "But there is still an issue. We don't have an ability to create an object of `Person` type with any name we like. Right now, the name \"John\" is fixed and we want an ability to pass a name of a person while creating new object, a `constructor`. Similar to method parameter, class allows us to pass parameter, and we can use them to instantiate object. This params are called `constructor parameters`. "
   ]
  },
  {
   "cell_type": "code",
   "execution_count": 4,
   "id": "1b5cc52e-b5d8-4921-8402-d9310ff241dd",
   "metadata": {},
   "outputs": [
    {
     "name": "stdout",
     "output_type": "stream",
     "text": [
      "John greets hi there\n",
      "Jil greets hi there\n"
     ]
    },
    {
     "data": {
      "text/plain": [
       "defined \u001b[32mclass\u001b[39m \u001b[36mPerson\u001b[39m\n",
       "\u001b[36mjohn\u001b[39m: \u001b[32mPerson\u001b[39m = ammonite.$sess.cmd3$Helper$Person@1685584c\n",
       "\u001b[36mjil\u001b[39m: \u001b[32mPerson\u001b[39m = ammonite.$sess.cmd3$Helper$Person@11d80fb2\n",
       "defined \u001b[32mfunction\u001b[39m \u001b[36mpersonGreets\u001b[39m"
      ]
     },
     "execution_count": 4,
     "metadata": {},
     "output_type": "execute_result"
    }
   ],
   "source": [
    "class Person(nm: String) {\n",
    "    val name = nm\n",
    "    def say(greet: String) = name + \" greets \" + greet\n",
    "}\n",
    "\n",
    "val john = new Person(\"John\")\n",
    "val jil = new Person(\"Jil\")\n",
    "\n",
    "def personGreets(msg: String, p: Person): Unit = println(p.say(msg))\n",
    "\n",
    "personGreets(\"hi there\", john)\n",
    "personGreets(\"hi there\", jil)"
   ]
  },
  {
   "cell_type": "markdown",
   "id": "5521d0e5-99c8-44e2-9787-6b1d36054af7",
   "metadata": {},
   "source": [
    "- Syntax: \n",
    "    - declaration: `class <name>(<param>:<type>, ...) { <body> }`\n",
    "    - create object: `new <class name>(<value>, ...)`\n",
    "    \n",
    "- Notes:\n",
    "    - constructor params are not necessarly class members, but using `var`, `val` or `def` we can make then class memebers\n",
    "    - we can use `parameter names` to pass param values in arbitrary order\n",
    "    - we can have default values to a parameter, and if we omit a param while constructing an object, default value will be used to create an instance    \n",
    "    \n",
    "#### type hierarchy\n",
    "---\n",
    "\n",
    "- Scala's type system is unified which means value (primitive) types and reference types have the common super type. The diagram below illustrates a subset of the type hierarchy.\n",
    "<img src=\"images/unified-types-diagram.svg\" style=\"display: block; margin-left: auto; margin-right: auto; width: 80%;\" />\n",
    "<sup>image credit: Scala Lang Docs</sup>\n",
    "\n",
    "- `Any` is the super type of all types, and defines common methods that all types must have.\n",
    "- `AnyVal` and `AnyRef` are direct sub type of `Any`, and they are super type of value types and reference types, respectively.\n",
    "- value types\n",
    "    - JVM's primitive types are subtype of `AnyVal`, and becuase Scala is pure object-oriented language, even primitives values are being treated as objects.\n",
    "    - example, `Int`, `Long`, `Double` etc..\n",
    "- reference types\n",
    "    - all non-value types are defined as reference types, and every user defined type in Scala is a subtype of `AnyRef`<sup>1</sup>.\n",
    "- `Null` is subtype of every reference types. (null value)\n",
    "- `Nothing` is subtype of all types.\n",
    "    - there is no value that has type `Nothing`.\n",
    "    - common use case is to signal non-termination such as expcetion thrown or infinite loop.\n",
    "    ```scala\n",
    "    scala> :type throw new Exception(\"some error\")\n",
    "    Nothing\n",
    "    ```\n",
    "\n",
    "#### conditional expression and its type inference\n",
    "---\n",
    "\n",
    "- the conditional `if` statement returns a value because it's an expression. Because it can hold two expressions of different types, it can help us understand type hierarchy.\n",
    "- conditional expression is made of three expressions, a condition, true branch and false branch.\n",
    "    - Syntax: `if (<condition>) { <trueBranch> } else { <falseBranch> }`\n",
    "    - curly braces are optional if branches are single expression\n",
    "- the type of conditional expression is `least common type` of types of both branches.\n",
    "\n",
    "```scala\n",
    "scala> :type if (false) 1 else ()\n",
    "AnyVal\n",
    "scala> :type if (false) \"hello\" else jil\n",
    "AnyRef\n",
    "scala> :type if (false) 1 else \"hello\"\n",
    "Any\n",
    "```\n",
    "\n",
    "- if `trueBranch` is reference type and `falseBranch` is `null`, then the type `trueBranch` will be the type of whole expression.\n",
    "- it is also possible to write if expression without `else` part\n",
    "    - Syntax: `if (<condition>) { <trueBranch> }`\n",
    "    - it will be similar expression as `if (<condition>) { <trueBranch> } else { () }`\n",
    "    \n",
    "---\n",
    "\n",
    "[1] User can define value classes, those types will be subtype of `AnyVal` (rather than `AnyRef`).\n",
    "\n",
    "---\n",
    "\n",
    "### Exercise\n",
    "\n",
    "1) Why does `object` construct not enough to write business logic, and what construct Scala does provide to overcome those limitations?\n",
    "\n",
    "2) What operator do we use to create a new object of a class? (choose one)\n",
    "    - `create`\n",
    "    - `make`\n",
    "    - `new`\n",
    "    - none of the above\n",
    "\n",
    "3) What is a constructor, and what's the difference between constructor parameters and class members?\n",
    "\n",
    "4) What will be the type of `if (true) throw new Exception(\"some error\") else null` expression? (choose one)\n",
    "    - `Nothing`\n",
    "    - `Null`\n",
    "    - `AnyRef`\n",
    "    - `Any`\n",
    "\n",
    "5) Define a `Counter` class. It should take the `name` of the counter and initial `count` value on constructing an object. It should be able to increment and decrement the count, and should query \"current count."
   ]
  }
 ],
 "metadata": {
  "kernelspec": {
   "display_name": "Scala",
   "language": "scala",
   "name": "scala"
  },
  "language_info": {
   "codemirror_mode": "text/x-scala",
   "file_extension": ".sc",
   "mimetype": "text/x-scala",
   "name": "scala",
   "nbconvert_exporter": "script",
   "version": "2.13.4"
  }
 },
 "nbformat": 4,
 "nbformat_minor": 5
}
