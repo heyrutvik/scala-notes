{
 "cells": [
  {
   "cell_type": "markdown",
   "id": "fd010d22-36a9-40b0-9b0b-dcd2392bc865",
   "metadata": {},
   "source": [
    "# Modelling Data\n",
    "---\n",
    "\n",
    "In this note, we will be using all the constructs we have learned so far to \"express\" the solution of a problem.\n",
    "\n",
    "### Algebraic Data Type\n",
    "---\n",
    "\n",
    "A form of composite type is called `Algebraic Data Type` (ADT), it's formed by combining other types. There are two ways we can combine types, `product` and `sum`. We already have seen the constructs, so let's formalize the concept.\n",
    "\n",
    "#### product type\n",
    "---"
   ]
  },
  {
   "cell_type": "code",
   "execution_count": 1,
   "id": "e2055519-ab7c-4e5e-9b1e-159a34eb438e",
   "metadata": {},
   "outputs": [
    {
     "data": {
      "text/plain": [
       "defined \u001b[32mclass\u001b[39m \u001b[36mPerosn\u001b[39m"
      ]
     },
     "execution_count": 1,
     "metadata": {},
     "output_type": "execute_result"
    }
   ],
   "source": [
    "final case class Perosn(name: String, age: Int)"
   ]
  },
  {
   "cell_type": "markdown",
   "id": "67f9051e-2a0b-45da-9872-b5fd82040087",
   "metadata": {},
   "source": [
    "Here, the `Perosn` is an example of `product` type. It is a product of `String` and `Int` type. Another way to put it is, a `Person` type <u>has</u> a `String` <u>and</u> a `Int`. In order to create a `Person` object, we must have a `String` object and an `Int` object.\n",
    "\n",
    "#### sum type\n",
    "---"
   ]
  },
  {
   "cell_type": "code",
   "execution_count": 2,
   "id": "0d02c6c4-c2b6-49d4-9cf3-be18f5315145",
   "metadata": {},
   "outputs": [
    {
     "data": {
      "text/plain": [
       "defined \u001b[32mtrait\u001b[39m \u001b[36mHuman\u001b[39m\n",
       "defined \u001b[32mclass\u001b[39m \u001b[36mMale\u001b[39m\n",
       "defined \u001b[32mclass\u001b[39m \u001b[36mFemale\u001b[39m"
      ]
     },
     "execution_count": 2,
     "metadata": {},
     "output_type": "execute_result"
    }
   ],
   "source": [
    "sealed trait Human\n",
    "final case class Male() extends Human\n",
    "final case class Female() extends Human"
   ]
  },
  {
   "cell_type": "markdown",
   "id": "57f625fd-9092-4a00-b9f3-80dfdead92bb",
   "metadata": {},
   "source": [
    "Here, the `Human` is an example of `sum` type. A `Human` can be either `Male` type or `Female` type. In other words, a `Human` <u>is</u> a `Male` <u>or</u> a `Female`.\n",
    "\n",
    "The ADT is combination of these two types, product \"has-a and\" type and sum \"is-a or\" type.\n",
    "\n",
    "#### missing pattern\n",
    "---\n",
    "\n",
    "What about \"is-a and\" and \"has-a or\" pattern? It is possible to express data types with such patterns. \n",
    "\n",
    "##### \"is-a and\"\n",
    "A class can extend only one class, but many traits. And we use `with` keyword to do that. It called mixin.\n",
    "So, to express that `A` is a `B` and `C`. We use mixin."
   ]
  },
  {
   "cell_type": "code",
   "execution_count": 3,
   "id": "a80dcdc8-8154-4fd4-8cb8-732aef3530ec",
   "metadata": {},
   "outputs": [
    {
     "data": {
      "text/plain": [
       "defined \u001b[32mtrait\u001b[39m \u001b[36mB\u001b[39m\n",
       "defined \u001b[32mtrait\u001b[39m \u001b[36mC\u001b[39m\n",
       "defined \u001b[32mtrait\u001b[39m \u001b[36mA\u001b[39m"
      ]
     },
     "execution_count": 3,
     "metadata": {},
     "output_type": "execute_result"
    }
   ],
   "source": [
    "trait B\n",
    "trait C\n",
    "trait A extends B with C"
   ]
  },
  {
   "cell_type": "markdown",
   "id": "38000f0c-3567-496e-b6c2-67d34823af87",
   "metadata": {},
   "source": [
    "- `extends` TYPE, this `TYPE` could be a class or trait.\n",
    "- `with` TYPE, this could be a trait only, and as much as we like. (... extends B with C with D with E)\n",
    "    \n",
    "We use this pattern to share implementation across several classes where it doesn't make sense to make default in the main trait (or class).\n",
    "\n",
    "##### \"has-a or\"\n",
    "\n",
    "To express, `A` has a `B` or `C`. We can use following form."
   ]
  },
  {
   "cell_type": "code",
   "execution_count": 4,
   "id": "4d4dcc22-f08b-4a93-a80e-10f66dab70a9",
   "metadata": {},
   "outputs": [
    {
     "data": {
      "text/plain": [
       "defined \u001b[32mtrait\u001b[39m \u001b[36mA\u001b[39m\n",
       "defined \u001b[32mclass\u001b[39m \u001b[36mD\u001b[39m\n",
       "defined \u001b[32mclass\u001b[39m \u001b[36mE\u001b[39m"
      ]
     },
     "execution_count": 4,
     "metadata": {},
     "output_type": "execute_result"
    }
   ],
   "source": [
    "sealed trait A\n",
    "final case class D(b: B) extends A\n",
    "final case class E(c: C) extends A"
   ]
  },
  {
   "cell_type": "markdown",
   "id": "57521f92-a7e3-4218-9008-d4a0939e6eb9",
   "metadata": {},
   "source": [
    "We mostly use product type and sum type to express any kind of data in Scala, understanding these patterns is very important for writing idiomatic Scala code."
   ]
  },
  {
   "cell_type": "markdown",
   "id": "c29f499e-3137-4620-ab1a-37bcbb8c7885",
   "metadata": {},
   "source": [
    "#### example\n",
    "---\n",
    "\n",
    "Let's define a data structure to express a result or a failure of a computation. A result can hold integer value, and failed computation can hold error code and message."
   ]
  },
  {
   "cell_type": "code",
   "execution_count": 5,
   "id": "10b9ad52-d3ed-4075-9239-6754b2b7b69c",
   "metadata": {},
   "outputs": [
    {
     "data": {
      "text/plain": [
       "defined \u001b[32mtrait\u001b[39m \u001b[36mComputation\u001b[39m\n",
       "defined \u001b[32mclass\u001b[39m \u001b[36mResult\u001b[39m\n",
       "defined \u001b[32mclass\u001b[39m \u001b[36mFailure\u001b[39m"
      ]
     },
     "execution_count": 5,
     "metadata": {},
     "output_type": "execute_result"
    }
   ],
   "source": [
    "sealed trait Computation\n",
    "final case class Result(value: Int) extends Computation\n",
    "final case class Failure(code: Int, msg: String) extends Computation"
   ]
  },
  {
   "cell_type": "markdown",
   "id": "12ac398e-4477-4482-9dbf-ece53c792dbb",
   "metadata": {},
   "source": [
    "The ADT `Computation` is readily understandable. The `Computation` is sum type becuase it is either `Result` or `Failure`. The `Result` and `Failure` are product type. `Result` has a `Int` value, and `Failure` has `Int` code and `String` error message.\n",
    "\n",
    "### Working with data\n",
    "---\n",
    "\n",
    "So far we talked about combining existing types to create new types, composite types. In order to write business logic, we need some mechanism which decompose these types, and let us use its component parts. There are two such mechanisms, \n",
    "\n",
    "1. subtype polymorphism\n",
    "2. pattern matching.\n",
    "\n",
    "#### subtype polymorphism\n",
    "---\n",
    "\n",
    "It uses parent-child relation between the types, and allows to pass subtype objects where parenttype object is expected and the behaviour is determined based on the provided concrete type."
   ]
  },
  {
   "cell_type": "code",
   "execution_count": 6,
   "id": "4cf5d23e-0170-454c-8021-38a844a2e31b",
   "metadata": {},
   "outputs": [
    {
     "data": {
      "text/plain": [
       "defined \u001b[32mtrait\u001b[39m \u001b[36mA\u001b[39m\n",
       "defined \u001b[32mclass\u001b[39m \u001b[36mB\u001b[39m\n",
       "defined \u001b[32mclass\u001b[39m \u001b[36mC\u001b[39m"
      ]
     },
     "execution_count": 6,
     "metadata": {},
     "output_type": "execute_result"
    }
   ],
   "source": [
    "sealed trait A {\n",
    "    def foo: String\n",
    "}\n",
    "\n",
    "final case class B() extends A {\n",
    "    def foo: String = \"It's B!\"\n",
    "}\n",
    "\n",
    "final case class C() extends A {\n",
    "    def foo: String = \"It's C!\"\n",
    "}"
   ]
  },
  {
   "cell_type": "markdown",
   "id": "373e06d5-d530-45c9-9133-86c1019cc23c",
   "metadata": {},
   "source": [
    "We declared ADT and used subtype polymorphism to implement a method."
   ]
  },
  {
   "cell_type": "code",
   "execution_count": 7,
   "id": "b4ec2e3d-6c9f-4328-b01f-6739b8830c0a",
   "metadata": {},
   "outputs": [
    {
     "data": {
      "text/plain": [
       "\u001b[36mb\u001b[39m: \u001b[32mA\u001b[39m = B()\n",
       "\u001b[36mres6_1\u001b[39m: \u001b[32mString\u001b[39m = \u001b[32m\"It's B!\"\u001b[39m\n",
       "\u001b[36mc\u001b[39m: \u001b[32mA\u001b[39m = C()\n",
       "\u001b[36mres6_3\u001b[39m: \u001b[32mString\u001b[39m = \u001b[32m\"It's C!\"\u001b[39m"
      ]
     },
     "execution_count": 7,
     "metadata": {},
     "output_type": "execute_result"
    }
   ],
   "source": [
    "val b: A = B()\n",
    "b.foo\n",
    "\n",
    "val c: A = C()\n",
    "c.foo"
   ]
  },
  {
   "cell_type": "markdown",
   "id": "4f3d6fa0-4aba-4fd7-bf4f-9ed40c2c1efb",
   "metadata": {},
   "source": [
    "As you can see, even though the type of `b` and `c` value is `A`, `.foo` returns string based on the concrete instances passed to it. The meaning of polymorphism is, many (poly) forms (morhpism). Here object of type `A`, can behave in many \"forms\" based on the concrete instance we pass.\n",
    "\n",
    "We can add an implementation of method in parent trait, and override in subtypes as per requirement. We covered it in `04-trait` note.\n",
    "\n",
    "Basically, the underlying idea is, by defining a method inside a type. We can use all its component parts along with method arguments to get closer to our desired output.\n",
    "For example, we can write a method `f` in class `A` which can use `b: B` and `c: C`, the class members and `d: D` method parameter to get the result of type `F`.\n",
    "\n",
    "```\n",
    "final case class A(b: B, c: C) {\n",
    "  override def f(d: D): F = ???\n",
    "}\n",
    "```\n",
    "\n",
    "### pattern matching\n",
    "---\n",
    "\n",
    "As we have discussed in the note `03-case-class-pattern-matching`, pattern matching allows use to decompose an object and give access to its sub-parts. We have two chocies here, either (1) define a method in parent trait, which does the pattern matching on its subtypes, or (2) create separate singleton object to place such method in it. \n",
    "\n",
    "- the advantage of the later is, we can have muplitple implementation of the method, one per object.\n",
    "- if method is not using any other value other than component parts, than we can prefer former approach.\n",
    "\n",
    "### complete example \n",
    "---\n",
    "\n",
    "Let's write ADT for geometric shapes and implement area method using both mechanisms.\n",
    "\n",
    "```scala\n",
    "sealed trait Shape\n",
    "final case class Square(side: Int) extends Shape\n",
    "final case class Rectangle(length: Int, width: Int) extends Shape\n",
    "final case class Circle(radius: Int) extends Shape\n",
    "```"
   ]
  },
  {
   "cell_type": "code",
   "execution_count": 8,
   "id": "fae9ebba-d8c6-4d82-89b4-eea28983083e",
   "metadata": {},
   "outputs": [
    {
     "data": {
      "text/plain": [
       "\u001b[32mimport \u001b[39m\u001b[36mscala.math._\n",
       "\n",
       "\u001b[39m\n",
       "defined \u001b[32mtrait\u001b[39m \u001b[36mShape\u001b[39m\n",
       "defined \u001b[32mclass\u001b[39m \u001b[36mSquare\u001b[39m\n",
       "defined \u001b[32mclass\u001b[39m \u001b[36mRectangle\u001b[39m\n",
       "defined \u001b[32mclass\u001b[39m \u001b[36mCircle\u001b[39m"
      ]
     },
     "execution_count": 8,
     "metadata": {},
     "output_type": "execute_result"
    }
   ],
   "source": [
    "// using polymorphism\n",
    "import scala.math._\n",
    "\n",
    "sealed trait Shape {\n",
    "    def area: Double\n",
    "}\n",
    "final case class Square(side: Int) extends Shape {\n",
    "    def area: Double = pow(side, 2)\n",
    "}\n",
    "final case class Rectangle(length: Int, width: Int) extends Shape {\n",
    "    def area: Double = length * width\n",
    "}\n",
    "final case class Circle(radius: Int) extends Shape {\n",
    "    def area: Double = Pi * pow(radius, 2)\n",
    "}"
   ]
  },
  {
   "cell_type": "code",
   "execution_count": 9,
   "id": "12445775-1a2c-4b98-be0b-9714a589662f",
   "metadata": {},
   "outputs": [
    {
     "data": {
      "text/plain": [
       "\u001b[32mimport \u001b[39m\u001b[36mscala.math._\n",
       "\n",
       "\u001b[39m\n",
       "defined \u001b[32mtrait\u001b[39m \u001b[36mShape\u001b[39m\n",
       "defined \u001b[32mclass\u001b[39m \u001b[36mSquare\u001b[39m\n",
       "defined \u001b[32mclass\u001b[39m \u001b[36mRectangle\u001b[39m\n",
       "defined \u001b[32mclass\u001b[39m \u001b[36mCircle\u001b[39m\n",
       "defined \u001b[32mobject\u001b[39m \u001b[36mShapeOps\u001b[39m"
      ]
     },
     "execution_count": 9,
     "metadata": {},
     "output_type": "execute_result"
    }
   ],
   "source": [
    "// using patterm matching\n",
    "import scala.math._\n",
    "\n",
    "sealed trait Shape {\n",
    "    /**\n",
    "     * (1) define a method in parent trait\n",
    "     */\n",
    "    def area: Double = this match {\n",
    "        case Square(side) => pow(side, 2)\n",
    "        case Rectangle(length, width) => length * width\n",
    "        case Circle(radius) => Pi * pow(radius, 2)\n",
    "    }\n",
    "}\n",
    "final case class Square(side: Int) extends Shape\n",
    "final case class Rectangle(length: Int, width: Int) extends Shape\n",
    "final case class Circle(radius: Int) extends Shape\n",
    "\n",
    "/**\n",
    " * (2) create separate singleton object to place such method in it\n",
    " */\n",
    "\n",
    "object ShapeOps {\n",
    "    def area(shape: Shape): Double = shape match {\n",
    "        case Square(side) => pow(side, 2)\n",
    "        case Rectangle(length, width) => length * width\n",
    "        case Circle(radius) => Pi * pow(radius, 2)\n",
    "    }\n",
    "}"
   ]
  },
  {
   "cell_type": "markdown",
   "id": "eccf53e7-f9c3-4d51-9309-266964237ef8",
   "metadata": {},
   "source": [
    "### Expression problem\n",
    "---\n",
    "\n",
    "Quoted from [wiki](https://en.wikipedia.org/wiki/Expression_problem),\n",
    "\n",
    "> The expression problem is a new name for an old problem. The goal is to define a datatype by cases, where one can add new cases to the datatype and new functions over the datatype, without recompiling existing code, and while retaining static type safety (e.g., no casts).\n",
    "\n",
    "In layman's term, a programming language should support some form of mechanism in which extending existing code don't force compiler to re-compile existing code.\n",
    "\n",
    "Two style of \"expression\",\n",
    "1. functional, dumb data and pattern matching\n",
    "2. object-oriented, object and polymorphism\n",
    "\n",
    "So, in object-oriented, classes are open to extend, and while adding a new class to a parent doesn't need to make changes in existing code. But if we add methods, we may need to change existing code. In contrast, in functional style adding a new method doesn't need to change existing code. But adding new data will force us to change the existing code base. The example of it would be, imagine a sealed trait and adding a new case class to it, it will break all pattern matching on the traits.\n",
    "\n",
    "Trade-offs:\n",
    "1. functional\n",
    "    - add new method: existing code unchanged\n",
    "    - add new data: change existing code\n",
    "2. object-oriented:\n",
    "    - add new method: change existing code\n",
    "    - add new data: existing code unchanged\n",
    "    \n",
    "We have flexibility to use both polymorphism and pattern matching, and we shold use whichever is appropriate.\n",
    "\n",
    "### Exercise\n",
    "---\n",
    "\n",
    "1) What is `Abstract Data Type`? \n",
    "\n",
    "2) Implement ADT for traffic light: red, green and yellow\n",
    "\n",
    "3) Add `next` method in traffic light ADT which returns subsequent light from \"current\" light, and implement it using polymorphism.\n",
    "\n",
    "4) Now implement `next` method using patter matching in parent trait.\n",
    "\n",
    "5) Explain \"expression problem\" in your own words. Also explain the trade-offs?"
   ]
  }
 ],
 "metadata": {
  "kernelspec": {
   "display_name": "Scala",
   "language": "scala",
   "name": "scala"
  },
  "language_info": {
   "codemirror_mode": "text/x-scala",
   "file_extension": ".sc",
   "mimetype": "text/x-scala",
   "name": "scala",
   "nbconvert_exporter": "script",
   "version": "2.13.4"
  }
 },
 "nbformat": 4,
 "nbformat_minor": 5
}
