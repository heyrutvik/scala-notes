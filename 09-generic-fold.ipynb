{
 "cells": [
  {
   "cell_type": "markdown",
   "id": "004cd065-3539-4ed9-b683-48afc8bb2800",
   "metadata": {},
   "source": [
    "# Generic Fold\n",
    "---\n",
    "\n",
    "In our last notebook, we wrote a generic method (`abstraction`) which represents general recursive computation on List structure. We then used it to write other more concrete computations (`sum`, `product` and `length`). The benefit of writing such a general method is obvious, less repetitive code and less code to debug. Let's say we want to use the `abstraction` method to implement the following `double` method."
   ]
  },
  {
   "cell_type": "code",
   "execution_count": 1,
   "id": "076a0f11-428b-40f3-8c67-6982c21edbea",
   "metadata": {},
   "outputs": [
    {
     "data": {
      "text/plain": [
       "defined \u001b[32mtrait\u001b[39m \u001b[36mIntList\u001b[39m\n",
       "defined \u001b[32mclass\u001b[39m \u001b[36mIntPair\u001b[39m\n",
       "defined \u001b[32mobject\u001b[39m \u001b[36mIntEnd\u001b[39m\n",
       "defined \u001b[32mobject\u001b[39m \u001b[36mIntList\u001b[39m\n",
       "\u001b[36mlist\u001b[39m: \u001b[32mIntList\u001b[39m = \u001b[33mIntPair\u001b[39m(\u001b[32m1\u001b[39m, \u001b[33mIntPair\u001b[39m(\u001b[32m2\u001b[39m, \u001b[33mIntPair\u001b[39m(\u001b[32m3\u001b[39m, \u001b[33mIntPair\u001b[39m(\u001b[32m4\u001b[39m, IntEnd))))\n",
       "\u001b[36mres0_5\u001b[39m: \u001b[32mIntList\u001b[39m = \u001b[33mIntPair\u001b[39m(\u001b[32m2\u001b[39m, \u001b[33mIntPair\u001b[39m(\u001b[32m4\u001b[39m, \u001b[33mIntPair\u001b[39m(\u001b[32m6\u001b[39m, \u001b[33mIntPair\u001b[39m(\u001b[32m8\u001b[39m, IntEnd))))"
      ]
     },
     "execution_count": 1,
     "metadata": {},
     "output_type": "execute_result"
    }
   ],
   "source": [
    "sealed trait IntList\n",
    "final case class IntPair(element: Int, rest: IntList) extends IntList\n",
    "final case object IntEnd extends IntList\n",
    "\n",
    "object IntList {\n",
    "    def double(list: IntList): IntList = list match {\n",
    "        case IntEnd => IntEnd\n",
    "        case IntPair(first, rest) => IntPair(first * 2, double(rest))\n",
    "    }\n",
    "}\n",
    "\n",
    "val list: IntList = IntPair(1, IntPair(2, IntPair(3, IntPair(4, IntEnd))))\n",
    "\n",
    "IntList.double(list)"
   ]
  },
  {
   "cell_type": "markdown",
   "id": "8cf4648b-0543-4759-822a-f92d1cf7d9b1",
   "metadata": {},
   "source": [
    "### connecting Lego blocks\n",
    "---\n",
    "\n",
    "Composing expressions in typed language is much like connecting the right blocks of Lego toy together. Let's say if you want to compose two functions to produce a \"composed\" function, the important invariant is, the input type of the second function should match the output type of the first function. Let's try it out."
   ]
  },
  {
   "cell_type": "code",
   "execution_count": 2,
   "id": "9750832f-349b-4cdc-828a-626470029d52",
   "metadata": {},
   "outputs": [
    {
     "data": {
      "text/plain": [
       "defined \u001b[32mfunction\u001b[39m \u001b[36mthirdPart\u001b[39m\n",
       "defined \u001b[32mfunction\u001b[39m \u001b[36mdoubleIt\u001b[39m\n",
       "defined \u001b[32mfunction\u001b[39m \u001b[36mdoubleOfThirdPart\u001b[39m\n",
       "\u001b[36mres1_3\u001b[39m: \u001b[32mDouble\u001b[39m = \u001b[32m6.666666666666667\u001b[39m"
      ]
     },
     "execution_count": 2,
     "metadata": {},
     "output_type": "execute_result"
    }
   ],
   "source": [
    "def thirdPart(x: Int): Double = x / 3.0\n",
    "\n",
    "def doubleIt(x: Double): Double = x * 2\n",
    "\n",
    "def doubleOfThirdPart(x: Int): Double = doubleIt(thirdPart(x))\n",
    "\n",
    "doubleOfThirdPart(10) // (10 / 3) * 2"
   ]
  },
  {
   "cell_type": "markdown",
   "id": "fa6f3457-aa7d-446e-9652-16d6ee4c4e4b",
   "metadata": {},
   "source": [
    "The result of `thirdPart` returns `Double` value, and `doubleIt` expects `Double` as an input. That is why we can compose them and write a method which takes `Int` and returns `Double` value.\n",
    "\n",
    "Let's see if we can write `double` (of `IntList`) using the `abstraction` method."
   ]
  },
  {
   "cell_type": "code",
   "execution_count": 3,
   "id": "2c35fc55-5fdb-4b18-bf44-53a2a66b8cb1",
   "metadata": {},
   "outputs": [
    {
     "data": {
      "text/plain": [
       "defined \u001b[32mfunction\u001b[39m \u001b[36mabstraction\u001b[39m"
      ]
     },
     "execution_count": 3,
     "metadata": {},
     "output_type": "execute_result"
    }
   ],
   "source": [
    "def abstraction(list: IntList, endCase: Int, pairCase: (Int, Int) => Int): Int = list match {\n",
    "    case IntEnd => endCase\n",
    "    case IntPair(first, rest) => pairCase(first, abstraction(rest, endCase, pairCase))\n",
    "}"
   ]
  },
  {
   "cell_type": "markdown",
   "id": "37acac9c-3b4c-4ba9-bb85-3c99cf2d0a16",
   "metadata": {},
   "source": [
    "Now, looking at the implementation of `double`, let's figure out what parts we need to pass into the `abstraction` method.\n",
    "The end case of `double` needs to return `End`, and the pair case needs to create a `Pair` using the head and result of the rest of the list.\n",
    "\n",
    "Do you see the problem?\n",
    "\n",
    "The `abstraction` method takes `Int` and `(Int, Int) => Int` for end case and pair case, respectively. And `double` doesn't use those types of value at those positions. Also, `double` returns `IntList` and `abstraction` method returns `Int`. Obviously, we can't use `abstraction` as it is. We need to change the signature of it, and make it a bit more generic."
   ]
  },
  {
   "cell_type": "markdown",
   "id": "0638be21-4767-4d81-8660-79e085f658d8",
   "metadata": {},
   "source": [
    "### update `abstraction` to be generic in its return type\n",
    "---\n",
    "\n",
    "Rather than returning an `Int` value, we want to return a valeu of generic type, so user of this method can use to compute any recursive operation on a List. Let's break it down.\n",
    "\n",
    "```scala\n",
    "def abstraction[T](list: IntList, endCase: ???, pairCase: ???): T = list match {\n",
    "    case IntEnd => ???\n",
    "    case IntPair(first, rest) => ???\n",
    "}\n",
    "```\n",
    "\n",
    "At the moment, we have following information about this method:\n",
    "1) it takes `IntList`\n",
    "2) it returns a value of some type `T`\n",
    "\n",
    "Because it returns a value of type `T`, both cases should hold an expression which returns a type `T`. And based on that, we will figure out the types of `endCase` and `pairCase` parameters.\n",
    "1) The `End` case returns `endCase` as it is (at least so far), and because the cases must return `T`, the type of `endCase` should be a `T`.\n",
    "2) The `Pair` case uses a function supplied in `pairCase`, and because it uses `first` element of the List (which is `Int`), recursive call of `abstraction` method (which means `T`) and cases must return type `T` which means function's return type should be a `T`.\n",
    "\n",
    "Let's update `abstraction` based on our reasoning and try to use it to implement `double`."
   ]
  },
  {
   "cell_type": "code",
   "execution_count": 4,
   "id": "26b07fe2-43f0-43a1-924d-2e20cf120cb8",
   "metadata": {},
   "outputs": [
    {
     "data": {
      "text/plain": [
       "defined \u001b[32mfunction\u001b[39m \u001b[36mabstraction\u001b[39m\n",
       "defined \u001b[32mobject\u001b[39m \u001b[36mIntList\u001b[39m\n",
       "\u001b[36mres3_2\u001b[39m: \u001b[32mIntList\u001b[39m = \u001b[33mIntPair\u001b[39m(\u001b[32m2\u001b[39m, \u001b[33mIntPair\u001b[39m(\u001b[32m4\u001b[39m, \u001b[33mIntPair\u001b[39m(\u001b[32m6\u001b[39m, \u001b[33mIntPair\u001b[39m(\u001b[32m8\u001b[39m, IntEnd))))"
      ]
     },
     "execution_count": 4,
     "metadata": {},
     "output_type": "execute_result"
    }
   ],
   "source": [
    "def abstraction[T](list: IntList, endCase: T, pairCase: (Int, T) => T): T = list match {\n",
    "    case IntEnd => endCase\n",
    "    case IntPair(first, rest) => pairCase(first, abstraction(rest, endCase, pairCase))\n",
    "}\n",
    "\n",
    "object IntList {\n",
    "    def double(list: IntList): IntList = abstraction(list, IntEnd, (a, b) => IntPair(a * 2, b))\n",
    "}\n",
    "\n",
    "IntList.double(list)"
   ]
  },
  {
   "cell_type": "markdown",
   "id": "e4ff08bb-d8ee-4657-a2a4-6d63a4f0ec40",
   "metadata": {},
   "source": [
    "### generic fold\n",
    "---\n",
    "\n",
    "The `abstraction` method we defined is known as the `fold` method. We use it to \"fold\" on some list-like structure to produce a result using recursion. The only drawback of `abstraction` is that it can only handle List of integers. Let's rename it to `fold` and implement it on a generic `List` data structure."
   ]
  },
  {
   "cell_type": "code",
   "execution_count": 5,
   "id": "9a855e75-cdfb-4677-941b-d94cce6dc07d",
   "metadata": {},
   "outputs": [
    {
     "data": {
      "text/plain": [
       "defined \u001b[32mtrait\u001b[39m \u001b[36mList\u001b[39m\n",
       "defined \u001b[32mclass\u001b[39m \u001b[36mEnd\u001b[39m\n",
       "defined \u001b[32mclass\u001b[39m \u001b[36mPair\u001b[39m\n",
       "defined \u001b[32mobject\u001b[39m \u001b[36mList\u001b[39m\n",
       "\u001b[36mlistInt\u001b[39m: \u001b[32mList\u001b[39m[\u001b[32mInt\u001b[39m] = \u001b[33mPair\u001b[39m(\u001b[32m1\u001b[39m, \u001b[33mPair\u001b[39m(\u001b[32m2\u001b[39m, \u001b[33mPair\u001b[39m(\u001b[32m3\u001b[39m, \u001b[33mPair\u001b[39m(\u001b[32m4\u001b[39m, End()))))\n",
       "\u001b[36mlistString\u001b[39m: \u001b[32mList\u001b[39m[\u001b[32mString\u001b[39m] = \u001b[33mPair\u001b[39m(\n",
       "  \u001b[32m\"hi\"\u001b[39m,\n",
       "  \u001b[33mPair\u001b[39m(\u001b[32m\"there\"\u001b[39m, \u001b[33mPair\u001b[39m(\u001b[32m\"how\"\u001b[39m, \u001b[33mPair\u001b[39m(\u001b[32m\"are\"\u001b[39m, \u001b[33mPair\u001b[39m(\u001b[32m\"you?\"\u001b[39m, End()))))\n",
       ")"
      ]
     },
     "execution_count": 5,
     "metadata": {},
     "output_type": "execute_result"
    }
   ],
   "source": [
    "sealed trait List[A]\n",
    "final case class End[A]() extends List[A]\n",
    "final case class Pair[A](head: A, tail: List[A]) extends List[A]\n",
    "\n",
    "object List {\n",
    "    def fold[A, T](list: List[A], endCase: T, pairCase: (A, T) => T): T = list match {\n",
    "        case End() => endCase\n",
    "        case Pair(first, rest) => pairCase(first, fold(rest, endCase, pairCase))\n",
    "    }\n",
    "}\n",
    "\n",
    "val listInt: List[Int] = Pair(1, Pair(2, Pair(3, Pair(4, End[Int]))))\n",
    "val listString: List[String] = Pair(\"hi\", Pair(\"there\", Pair(\"how\", Pair(\"are\", Pair(\"you?\", End[String])))))"
   ]
  },
  {
   "cell_type": "markdown",
   "id": "529ee01d-7eff-4699-9db7-e0cb755c9808",
   "metadata": {},
   "source": [
    "The implementation of fold is pretty straightforward. Rather than taking `Int` as the first element of list we are using type `A`, because now List holds elements of type `A`."
   ]
  },
  {
   "cell_type": "code",
   "execution_count": 6,
   "id": "0e370b20-58b0-44c5-8207-7723dfcddae9",
   "metadata": {},
   "outputs": [
    {
     "data": {
      "text/plain": [
       "\u001b[36mres5\u001b[39m: \u001b[32mInt\u001b[39m = \u001b[32m10\u001b[39m"
      ]
     },
     "execution_count": 6,
     "metadata": {},
     "output_type": "execute_result"
    }
   ],
   "source": [
    "List.fold(listInt, 0, (a: Int, b: Int) => a + b)"
   ]
  },
  {
   "cell_type": "code",
   "execution_count": 7,
   "id": "d9d8fab7-f6b8-4f13-9b43-878d4f621657",
   "metadata": {},
   "outputs": [
    {
     "data": {
      "text/plain": [
       "\u001b[36mres6\u001b[39m: \u001b[32mString\u001b[39m = \u001b[32m\"hi there how are you? \"\u001b[39m"
      ]
     },
     "execution_count": 7,
     "metadata": {},
     "output_type": "execute_result"
    }
   ],
   "source": [
    "List.fold(listString, \"\", (a: String, b: String) => a + \" \" + b)"
   ]
  },
  {
   "cell_type": "markdown",
   "id": "5ee6bd01-8db4-4725-b64b-9b0d125740e5",
   "metadata": {},
   "source": [
    "Notice, that we explicitly annotated type input types in function we passed to `fold`. What happens if we don't do that?"
   ]
  },
  {
   "cell_type": "code",
   "execution_count": 7,
   "id": "dad914d7-8971-4f16-a343-21c3682a5e62",
   "metadata": {},
   "outputs": [
    {
     "name": "stderr",
     "output_type": "stream",
     "text": [
      "cmd7.sc:1: missing parameter type\n",
      "val res7 = List.fold(listInt, 0, (a, b) => a + b)\n",
      "                                  ^cmd7.sc:1: missing parameter type\n",
      "val res7 = List.fold(listInt, 0, (a, b) => a + b)\n",
      "                                     ^Compilation Failed"
     ]
    },
    {
     "ename": "",
     "evalue": "",
     "output_type": "error",
     "traceback": [
      "Compilation Failed"
     ]
    }
   ],
   "source": [
    "List.fold(listInt, 0, (a, b) => a + b)"
   ]
  },
  {
   "cell_type": "markdown",
   "id": "0689244d-fd5c-4356-919c-31191f345feb",
   "metadata": {},
   "source": [
    "Hm.. the compiler complains that it can't figure out the types of inputs. Strenge, isn't it? Because it seems obvious based on other parameters.\n",
    "\n",
    "### function tricks\n",
    "---\n",
    "\n",
    "Scala provides following three things to write more concise programs and helping type system infer types alongwith.\n",
    "1) placeholder syntax\n",
    "2) method to function conversion\n",
    "3) multiple parameter lists\n",
    "\n",
    "#### placeholder syntax\n",
    "---\n",
    "\n",
    "We already know that when we want to ignore any value, we use `_`. And if we are passing a function as a parameter, we can use `_` to denote input value. For example, `(a, b) => a + b` could be written as `_ + _`. Here, the first underscore represents first input and second underscore represents second input. The only thing to keep in mind here is, if you are using the same input multiple times in body, you won't be able to use this syntax."
   ]
  },
  {
   "cell_type": "code",
   "execution_count": 7,
   "id": "a7536424-0332-4f98-b4e2-efaf9f26f882",
   "metadata": {},
   "outputs": [
    {
     "name": "stderr",
     "output_type": "stream",
     "text": [
      "cmd7.sc:1: missing parameter type for expanded function ((x$1: <error>, x$2) => x$1.$plus(x$2))\n",
      "val res7 = List.fold(listInt, 0, _ + _)\n",
      "                                 ^cmd7.sc:1: missing parameter type for expanded function ((x$1: <error>, x$2: <error>) => x$1.$plus(x$2))\n",
      "val res7 = List.fold(listInt, 0, _ + _)\n",
      "                                     ^Compilation Failed"
     ]
    },
    {
     "ename": "",
     "evalue": "",
     "output_type": "error",
     "traceback": [
      "Compilation Failed"
     ]
    }
   ],
   "source": [
    "List.fold(listInt, 0, _ + _)"
   ]
  },
  {
   "cell_type": "markdown",
   "id": "05c6df83-401d-4ae5-8d9b-17ed7902a768",
   "metadata": {},
   "source": [
    "Again, it's complaining about not knowing the type of inputs. We can annotate a type as well."
   ]
  },
  {
   "cell_type": "code",
   "execution_count": 8,
   "id": "45bd4080-5ffe-43ef-a20f-51db33598832",
   "metadata": {},
   "outputs": [
    {
     "data": {
      "text/plain": [
       "\u001b[36mres7\u001b[39m: \u001b[32mInt\u001b[39m = \u001b[32m10\u001b[39m"
      ]
     },
     "execution_count": 8,
     "metadata": {},
     "output_type": "execute_result"
    }
   ],
   "source": [
    "List.fold(listInt, 0, (_: Int) + (_: Int))"
   ]
  },
  {
   "cell_type": "markdown",
   "id": "3f7598d9-88ed-4e6e-91bd-54f84bc31984",
   "metadata": {},
   "source": [
    "So, placeholder syntax expands as function as follows:\n",
    "\n",
    "1. `_ + _` is `(a, b) => a + b`\n",
    "2. `foo(_)` is `x => foo(x)`\n",
    "3. `bar(_, b)` is `a => bar(a, b)`"
   ]
  },
  {
   "cell_type": "markdown",
   "id": "bbfca212-08d4-4f6b-960b-a889aedc467d",
   "metadata": {},
   "source": [
    "#### method to function conversion\n",
    "---\n",
    "\n",
    "As we know, method is not a first-class construct in Scala as a function is. But let's say we have some logic implemented as a method and want to pass it as a function to some higher-order method. We don't need to write another function for that, Scala can \"convert\" that method to function as follows.\n",
    "\n",
    "If we don't provide any arguments to the method (or provide some of the arguments) then Scala converts it into a function which takes those arguments as a parameter."
   ]
  },
  {
   "cell_type": "code",
   "execution_count": 9,
   "id": "45e06669-4812-48ed-baea-900cfb36a8d4",
   "metadata": {},
   "outputs": [
    {
     "data": {
      "text/plain": [
       "defined \u001b[32mobject\u001b[39m \u001b[36mSum\u001b[39m\n",
       "\u001b[36mres8_1\u001b[39m: (\u001b[32mInt\u001b[39m, \u001b[32mInt\u001b[39m) => \u001b[32mInt\u001b[39m = ammonite.$sess.cmd8$Helper$$$Lambda$2580/0x0000000100cec840@490437c4"
      ]
     },
     "execution_count": 9,
     "metadata": {},
     "output_type": "execute_result"
    }
   ],
   "source": [
    "object Sum {\n",
    "    def sum(a: Int, b: Int): Int = a + b\n",
    "}\n",
    "\n",
    "Sum.sum _"
   ]
  },
  {
   "cell_type": "markdown",
   "id": "868af206-0718-4b11-b351-605a85e616d8",
   "metadata": {},
   "source": [
    "We didn't provide any arguments to the `sum` method, and Scala returns a function which takes two `Int` arguments and returns an `Int`. We can do the same for partial arguments. For example, rather than not providing both arguments, we provide only `a`. "
   ]
  },
  {
   "cell_type": "code",
   "execution_count": 10,
   "id": "0a86999b-b480-4548-ba85-34ac6279a438",
   "metadata": {},
   "outputs": [
    {
     "data": {
      "text/plain": [
       "\u001b[36mres9\u001b[39m: \u001b[32mInt\u001b[39m => \u001b[32mInt\u001b[39m = ammonite.$sess.cmd9$Helper$$Lambda$2587/0x0000000100cf1840@5e9bef04"
      ]
     },
     "execution_count": 10,
     "metadata": {},
     "output_type": "execute_result"
    }
   ],
   "source": [
    "Sum.sum(2, _)"
   ]
  },
  {
   "cell_type": "markdown",
   "id": "4f183de5-a9bd-4dfc-a079-7cc300a63202",
   "metadata": {},
   "source": [
    "This time it returns a function which takes a single argument (in this case `b`) because `a` is already provided.\n",
    "\n",
    "Note: if we are passing a method directly to a higher-order method, then we can avoid writing `_`.  "
   ]
  },
  {
   "cell_type": "code",
   "execution_count": 11,
   "id": "32023185-efb0-4de4-b399-6650407d9bbb",
   "metadata": {},
   "outputs": [
    {
     "data": {
      "text/plain": [
       "\u001b[36mres10\u001b[39m: \u001b[32mInt\u001b[39m = \u001b[32m10\u001b[39m"
      ]
     },
     "execution_count": 11,
     "metadata": {},
     "output_type": "execute_result"
    }
   ],
   "source": [
    "List.fold(listInt, 0, Sum.sum)"
   ]
  },
  {
   "cell_type": "markdown",
   "id": "20811870-b9e9-4e8c-bb15-cefbe40b6151",
   "metadata": {},
   "source": [
    "#### multiple parameter lists\n",
    "---\n",
    "\n",
    "As we noticed above, `List.fold(listInt, 0, _ + _)` throws an error because the compiler couldn't figure out the type of function. Even though it knows that `listInt` is `List[Int]` (so `A` is `Int`) and `endCase` is `0` (so `T` is `Int`).\n",
    "\n",
    "The reason is, it's a limitation of Scala's type inference system, that it can't use type inferred for one parameter for another parameter in the _same_ list.\n",
    "\n",
    "Scala allows use to define multiple parameter lists for two reasons:\n",
    "1) at the call-site, method will look like code block (more readable)\n",
    "2) to assist type system to use inferred type"
   ]
  },
  {
   "cell_type": "code",
   "execution_count": 12,
   "id": "c6917da9-f6c5-4aef-846a-39c9d773d7aa",
   "metadata": {},
   "outputs": [
    {
     "data": {
      "text/plain": [
       "defined \u001b[32mobject\u001b[39m \u001b[36mList\u001b[39m\n",
       "\u001b[36mres11_1\u001b[39m: \u001b[32mInt\u001b[39m = \u001b[32m10\u001b[39m"
      ]
     },
     "execution_count": 12,
     "metadata": {},
     "output_type": "execute_result"
    }
   ],
   "source": [
    "object List {\n",
    "    def fold[A, T](list: List[A], endCase: T)(pairCase: (A, T) => T): T = list match {\n",
    "        case End() => endCase\n",
    "        case Pair(first, rest) => pairCase(first, fold(rest, endCase)(pairCase))\n",
    "    }\n",
    "}\n",
    "\n",
    "List.fold(listInt, 0)(_ + _)"
   ]
  },
  {
   "cell_type": "markdown",
   "id": "abb2440e-b446-49cf-909e-ba81ce8cf4fc",
   "metadata": {},
   "source": [
    "This time no errors on using placeholder syntax for function. We can write it as follows as well for more readability."
   ]
  },
  {
   "cell_type": "code",
   "execution_count": 13,
   "id": "e305f146-0666-41db-8b77-42f1f39560ad",
   "metadata": {},
   "outputs": [
    {
     "data": {
      "text/plain": [
       "\u001b[36mres12\u001b[39m: \u001b[32mInt\u001b[39m = \u001b[32m10\u001b[39m"
      ]
     },
     "execution_count": 13,
     "metadata": {},
     "output_type": "execute_result"
    }
   ],
   "source": [
    "List.fold(listInt, 0) { (a, b) =>\n",
    "    // some complicated logic\n",
    "    a + b\n",
    "}"
   ]
  },
  {
   "cell_type": "markdown",
   "id": "4ba3b496-438d-4f11-9630-a47bb5191d7c",
   "metadata": {},
   "source": [
    "### Exercise\n",
    "---\n",
    "\n",
    "1. Write a generic method `compose`, which composes any two functions. [hint: `compose(thirdPart, doubleIt)`]\n",
    "\n",
    "2. Define generic `Tree` data structure, and implement `fold` on it.\n",
    "\n",
    "3. Use `fold` method to convert `Tree[String]` to `String`. [hint: refer to `List.fold` applied to `listString`]\n",
    "\n",
    "4. Change `fold` method signature to use multiple argument lists. How does it help?\n",
    "\n",
    "5. What if you don't provide an argument to the last parameter list of `fold`. Explain."
   ]
  }
 ],
 "metadata": {
  "kernelspec": {
   "display_name": "Scala",
   "language": "scala",
   "name": "scala"
  },
  "language_info": {
   "codemirror_mode": "text/x-scala",
   "file_extension": ".scala",
   "mimetype": "text/x-scala",
   "name": "scala",
   "nbconvert_exporter": "script",
   "version": "2.12.11"
  }
 },
 "nbformat": 4,
 "nbformat_minor": 5
}
