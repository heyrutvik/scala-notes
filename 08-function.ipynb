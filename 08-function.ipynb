{
 "cells": [
  {
   "cell_type": "markdown",
   "id": "878f9f3d-8b54-4d60-a637-139a9be1f37d",
   "metadata": {},
   "source": [
    "# Function\n",
    "---\n",
    "\n",
    "In this notebook, we are going to talk about functions as a value and their type. A **type** is a notion to _abstract over values_, and a **function** _abstracts over method_ (operation). In any programming language, an entity is said to be a first-class citizen if it can be assigned to a variable, passed to and returned from a method, and stored in data structure. And for a language to be a _functional_, it must treat a _function entity_ as first-class citizen. In short, function is a value. Like any other value, it too has a type.\n",
    "\n",
    "Usually we use `function` and `method` interchangeably, but in Scala, they are different. A method is a member of a class or trait, on the other hand, a function is an object (value). So, a method _is not_ a first-class citizen in Scala whereas a function is.\n",
    "\n",
    "### object as a function\n",
    "---\n",
    "\n",
    "As already described in one of the previous notebooks, Scala provides a syntactic sugar to call the `apply` method of an `object`. This is what gives Scala the ability to treat function as a value. In other words, a function in Scala is an object (like any other) which has an `apply` method."
   ]
  },
  {
   "cell_type": "code",
   "execution_count": 1,
   "id": "c6be4d89-22e0-4ede-968e-f323411761cc",
   "metadata": {},
   "outputs": [
    {
     "data": {
      "text/plain": [
       "defined \u001b[32mclass\u001b[39m \u001b[36mIncrement\u001b[39m\n",
       "\u001b[36minc\u001b[39m: \u001b[32mIncrement\u001b[39m = ammonite.$sess.cmd0$Helper$Increment@b99cddf\n",
       "\u001b[36mres0_2\u001b[39m: \u001b[32mInt\u001b[39m = \u001b[32m3\u001b[39m"
      ]
     },
     "execution_count": 1,
     "metadata": {},
     "output_type": "execute_result"
    }
   ],
   "source": [
    "class Increment() {\n",
    "    def apply(n: Int): Int = n + 1\n",
    "}\n",
    "\n",
    "val inc = new Increment()\n",
    "\n",
    "inc(2) // inc.apply(2) evaluates to 3"
   ]
  },
  {
   "cell_type": "markdown",
   "id": "ef516224-e22a-42ee-83f9-65dd0d8c423e",
   "metadata": {},
   "source": [
    "Here, `inc` is an object of `Increment` class. The class contains an `apply` method and that's why we are able to \"emulate\" an object as a function, Scala expands object \"call\" to `apply` method call. \n",
    "\n",
    "Terminology: in programming, we usually say \"we are passing argument(s) to a function\" whereas in mathematics, the same thing is expressed as \"we are applying a function to argument(s)\".\n",
    "\n",
    "### need of function type\n",
    "---\n",
    "\n",
    "Let's create another class called `Decrement` which decrements an input `n` by 1."
   ]
  },
  {
   "cell_type": "code",
   "execution_count": 2,
   "id": "6a464d5a-3e78-4a4d-85b7-f6ff89a72b97",
   "metadata": {},
   "outputs": [
    {
     "data": {
      "text/plain": [
       "defined \u001b[32mclass\u001b[39m \u001b[36mDecrement\u001b[39m\n",
       "\u001b[36mdec\u001b[39m: \u001b[32mDecrement\u001b[39m = ammonite.$sess.cmd1$Helper$Decrement@7105ba26\n",
       "\u001b[36mres1_2\u001b[39m: \u001b[32mInt\u001b[39m = \u001b[32m1\u001b[39m"
      ]
     },
     "execution_count": 2,
     "metadata": {},
     "output_type": "execute_result"
    }
   ],
   "source": [
    "class Decrement() {\n",
    "    def apply(n: Int): Int = n - 1\n",
    "}\n",
    "\n",
    "val dec = new Decrement()\n",
    "\n",
    "dec(2) // dec.apply(2) evaluates to 1"
   ]
  },
  {
   "cell_type": "markdown",
   "id": "1e4a4c16-c144-4733-b9e7-b88bc0f5ee4c",
   "metadata": {},
   "source": [
    "Let's create a class to take increment object and double the result of that operation."
   ]
  },
  {
   "cell_type": "code",
   "execution_count": 3,
   "id": "13310b8f-1f7c-42f6-a644-55e30dfdd02d",
   "metadata": {},
   "outputs": [
    {
     "data": {
      "text/plain": [
       "defined \u001b[32mclass\u001b[39m \u001b[36mIncrementAndDoubleIt\u001b[39m\n",
       "\u001b[36mincAndDouble\u001b[39m: \u001b[32mIncrementAndDoubleIt\u001b[39m = ammonite.$sess.cmd2$Helper$IncrementAndDoubleIt@55a09041\n",
       "\u001b[36mres2_2\u001b[39m: \u001b[32mInt\u001b[39m = \u001b[32m22\u001b[39m"
      ]
     },
     "execution_count": 3,
     "metadata": {},
     "output_type": "execute_result"
    }
   ],
   "source": [
    "class IncrementAndDoubleIt(increment: Increment) {\n",
    "    def apply(n: Int): Int = increment(n) * 2\n",
    "}\n",
    "\n",
    "val incAndDouble = new IncrementAndDoubleIt(inc)\n",
    "\n",
    "incAndDouble(10) // (10 + 1) * 2 = 22"
   ]
  },
  {
   "cell_type": "markdown",
   "id": "b58f449d-478a-4272-95f4-31895aef8c69",
   "metadata": {},
   "source": [
    "If we need to pass a `Decrement` object and double the result of it, we would need to create another class. Even though the _signature_ of both operations (increment and decrement) are similar. Both operations take an integer and return an integer. You might be thinking about adding a common super class to both operation classes but that too won't scale. There would be uncountable operations that represent the common signature, takes an integer and returns an integer.\n",
    "\n",
    "A `type` abstract over values, and here we need a type that abstracts over (function) values which takes an integer and returns an integer. And in Scala, we denote it as `Int => Int`.\n",
    "\n",
    "#### function type\n",
    "---\n",
    "\n",
    "We use `=>` to represent a function type, a type before it is input type and a type after it is called output type. If we want to represent a function which takes no argument and returns a string then we would write `() => String`.\n",
    "\n",
    "```\n",
    "(InputType, ...) => OutputType\n",
    "```\n",
    "\n",
    "1. `() => Double` = takes no argument and returns a double\n",
    "2. `Int => String` = takes an integer and returns a string\n",
    "3. `(Double, Double) => Int` = takes two arguments of type double and returns an integer.\n",
    "\n",
    "Let's use function type to create a class to take _any_ operation which takes an integer and returns an integer, and doubles the result of that operation."
   ]
  },
  {
   "cell_type": "code",
   "execution_count": 4,
   "id": "60d4cfcb-5907-4c2f-b81c-b4af4b2c88b4",
   "metadata": {},
   "outputs": [
    {
     "data": {
      "text/plain": [
       "defined \u001b[32mclass\u001b[39m \u001b[36mIntToIntOpAndDoubleIt\u001b[39m"
      ]
     },
     "execution_count": 4,
     "metadata": {},
     "output_type": "execute_result"
    }
   ],
   "source": [
    "class IntToIntOpAndDoubleIt(intToInt: Int => Int) {\n",
    "    def apply(n: Int): Int = intToInt(n) * 2\n",
    "}"
   ]
  },
  {
   "cell_type": "code",
   "execution_count": 5,
   "id": "3d153afb-031a-49f7-9b2b-996fd63bc66c",
   "metadata": {},
   "outputs": [
    {
     "ename": "",
     "evalue": "",
     "output_type": "error",
     "traceback": [
      "\u001b[31mscala.NotImplementedError: an implementation is missing\u001b[39m\n  scala.Predef$.$qmark$qmark$qmark(\u001b[32mPredef.scala\u001b[39m:\u001b[32m345\u001b[39m)\n  ammonite.$sess.cmd4$Helper.<init>(\u001b[32mcmd4.sc\u001b[39m:\u001b[32m1\u001b[39m)\n  ammonite.$sess.cmd4$.<clinit>(\u001b[32mcmd4.sc\u001b[39m:\u001b[32m7\u001b[39m)"
     ]
    }
   ],
   "source": [
    "val intToIntAndDouble = new IntToIntOpAndDoubleIt(???)"
   ]
  },
  {
   "cell_type": "markdown",
   "id": "e29006d8-794b-4d20-8336-8b45aed582d9",
   "metadata": {},
   "source": [
    "But wait... what would be a value of the type `Int => Int`?\n",
    "\n",
    "### function value\n",
    "---\n",
    "\n",
    "A function value is like any other object in Scala, and just as we have literal syntax for simpler types, we also have literal syntax for function values. It looks similar to a function type, but rather than types on each side of `=>`, here we have argument(s) on the left and function body on the right.\n",
    "\n",
    "```\n",
    "(arg1: Type1, arg2: Type2, ...) => <body>\n",
    "```\n",
    "\n",
    "The arguments are denoted by their types, and can be ignored if they are inferrable. Let's create a function value to represent the computation `Increment` class does."
   ]
  },
  {
   "cell_type": "code",
   "execution_count": 6,
   "id": "02df6956-7b1d-4092-8932-4477ced3eafe",
   "metadata": {},
   "outputs": [
    {
     "data": {
      "text/plain": [
       "\u001b[36minc\u001b[39m: \u001b[32mInt\u001b[39m => \u001b[32mInt\u001b[39m = ammonite.$sess.cmd5$Helper$$Lambda$1950/0x0000000840a1e040@1a927672\n",
       "\u001b[36mres5_1\u001b[39m: \u001b[32mInt\u001b[39m = \u001b[32m3\u001b[39m"
      ]
     },
     "execution_count": 6,
     "metadata": {},
     "output_type": "execute_result"
    }
   ],
   "source": [
    "//       type       = arg      => body\n",
    "val inc: Int => Int = (n: Int) => n + 1\n",
    "\n",
    "inc(2) // 3"
   ]
  },
  {
   "cell_type": "code",
   "execution_count": 7,
   "id": "bb5bf822-be0b-4de5-a951-c49951eecaec",
   "metadata": {},
   "outputs": [
    {
     "data": {
      "text/plain": [
       "\u001b[36minc\u001b[39m: \u001b[32mInt\u001b[39m => \u001b[32mInt\u001b[39m = ammonite.$sess.cmd6$Helper$$Lambda$1957/0x0000000840a22840@75362895"
      ]
     },
     "execution_count": 7,
     "metadata": {},
     "output_type": "execute_result"
    }
   ],
   "source": [
    "// because type is already specified we can ignore it and can write `n` instead of `(n: Int)`\n",
    "val inc: Int => Int = n => n + 1"
   ]
  },
  {
   "cell_type": "code",
   "execution_count": 8,
   "id": "0da5b03b-5f10-4d25-a71e-5a4e78d8e505",
   "metadata": {},
   "outputs": [
    {
     "data": {
      "text/plain": [
       "\u001b[36minc\u001b[39m: \u001b[32mInt\u001b[39m => \u001b[32mInt\u001b[39m = ammonite.$sess.cmd7$Helper$$Lambda$1961/0x0000000840a25040@4b882831"
      ]
     },
     "execution_count": 8,
     "metadata": {},
     "output_type": "execute_result"
    }
   ],
   "source": [
    "// because argument type is specified using (n: Int) and type of body is inferreble as Int,\n",
    "// the type of `inc` is inferred `Int => Int`.\n",
    "val inc = (n: Int) => n + 1"
   ]
  },
  {
   "cell_type": "markdown",
   "id": "3dae82b5-360e-4b28-af7b-8914932a2124",
   "metadata": {},
   "source": [
    "Now that we know how to create a value of type `Int => Int`, let's get back to our example `IntToIntOpAndDoubleIt` and create an instance of it."
   ]
  },
  {
   "cell_type": "code",
   "execution_count": 9,
   "id": "2d3d6174-bf5d-460b-8840-d879a4905f18",
   "metadata": {},
   "outputs": [
    {
     "data": {
      "text/plain": [
       "\u001b[36mincAndDouble\u001b[39m: \u001b[32mIntToIntOpAndDoubleIt\u001b[39m = ammonite.$sess.cmd3$Helper$IntToIntOpAndDoubleIt@22c0cc21\n",
       "\u001b[36mdecAndDouble\u001b[39m: \u001b[32mIntToIntOpAndDoubleIt\u001b[39m = ammonite.$sess.cmd3$Helper$IntToIntOpAndDoubleIt@3465cf1d\n",
       "\u001b[36mres8_2\u001b[39m: \u001b[32mInt\u001b[39m = \u001b[32m6\u001b[39m\n",
       "\u001b[36mres8_3\u001b[39m: \u001b[32mInt\u001b[39m = \u001b[32m2\u001b[39m"
      ]
     },
     "execution_count": 9,
     "metadata": {},
     "output_type": "execute_result"
    }
   ],
   "source": [
    "val incAndDouble = new IntToIntOpAndDoubleIt((n: Int) => n + 1)\n",
    "val decAndDouble = new IntToIntOpAndDoubleIt(n => n - 1) // type of input is inferred.\n",
    "\n",
    "incAndDouble(2) // (2 + 1) * 2 = 6\n",
    "decAndDouble(2) // (2 - 1) * 2 = 2"
   ]
  },
  {
   "cell_type": "markdown",
   "id": "a6a36955-dcd4-49aa-8bf9-4a83eabd48d0",
   "metadata": {},
   "source": [
    "Notice that operation classes such as `Increment`, `Decrement` and even `IntToIntOpAndDoubleIt` are _just a computation_ wrapped in a class. We can easily replace them with a function value."
   ]
  },
  {
   "cell_type": "code",
   "execution_count": 10,
   "id": "c1e7d4bc-9406-4624-b596-d9cb2560a77a",
   "metadata": {},
   "outputs": [
    {
     "data": {
      "text/plain": [
       "\u001b[36mincrement\u001b[39m: \u001b[32mInt\u001b[39m => \u001b[32mInt\u001b[39m = ammonite.$sess.cmd9$Helper$$Lambda$1984/0x0000000840a34040@7ca62dbd\n",
       "\u001b[36mdecrement\u001b[39m: \u001b[32mInt\u001b[39m => \u001b[32mInt\u001b[39m = ammonite.$sess.cmd9$Helper$$Lambda$1985/0x0000000840a35040@738c07fa\n",
       "\u001b[36moperationAndDouble\u001b[39m: \u001b[32mInt\u001b[39m => \u001b[32mInt\u001b[39m => \u001b[32mInt\u001b[39m => \u001b[32mInt\u001b[39m = ammonite.$sess.cmd9$Helper$$Lambda$1986/0x0000000840a35840@3fff9b56\n",
       "\u001b[36mincAndDouble\u001b[39m: \u001b[32mInt\u001b[39m => \u001b[32mInt\u001b[39m = ammonite.$sess.cmd9$Helper$$Lambda$1987/0x0000000840a36840@28f13299\n",
       "\u001b[36mres9_4\u001b[39m: \u001b[32mInt\u001b[39m = \u001b[32m22\u001b[39m"
      ]
     },
     "execution_count": 10,
     "metadata": {},
     "output_type": "execute_result"
    }
   ],
   "source": [
    "// those 9 lines of classes are reduced to 3 lines of function literals.\n",
    "val increment = (n: Int) => n + 1\n",
    "val decrement = (n: Int) => n - 1\n",
    "val operationAndDouble = (op: Int => Int) => (n: Int) => op(n) * 2\n",
    "\n",
    "val incAndDouble = operationAndDouble(increment)\n",
    "incAndDouble(10) // (10 + 1) * 2 = 22"
   ]
  },
  {
   "cell_type": "markdown",
   "id": "a55b93e2-e095-425c-be50-82a8f57c3936",
   "metadata": {},
   "source": [
    "What's the type of `operationAndDouble` value? "
   ]
  },
  {
   "cell_type": "code",
   "execution_count": 11,
   "id": "d5503b53-bd1c-4f9a-828d-1946ae48ff73",
   "metadata": {},
   "outputs": [
    {
     "data": {
      "text/plain": [
       "\u001b[36mres10\u001b[39m: \u001b[32mString\u001b[39m = \u001b[32m\"(Int => Int) => (Int => Int)\"\u001b[39m"
      ]
     },
     "execution_count": 11,
     "metadata": {},
     "output_type": "execute_result"
    }
   ],
   "source": [
    "typeOf(operationAndDouble).toString"
   ]
  },
  {
   "cell_type": "markdown",
   "id": "8cfa74a7-ba4d-437c-be66-e1cc1ee6144f",
   "metadata": {},
   "source": [
    "This is an example of a _curried function_. A function is called carried if it takes a single argument at a time, and returns a function for remaining arguments. The signature (function type) of `operationAndDouble` value is `(Int => Int) => Int => Int`, and because `=>` in function type is right-associative, it's actually `(Int => Int) => (Int => Int)` as previous cell prints in output.\n",
    "\n",
    "`(Int => Int) => (Int => Int)` = takes a function of type `Int => Int` and returns a function of type `Int => Int`\n",
    "\n",
    "That is why we can call `incAndDouble(10)`, it holds the function returned from the `operationAndDouble(increment)` expression.\n",
    "\n",
    "We can also call the returned function directly without storing it anywhere as `operationAndDouble(increment)(10)`, this should return the same result as the previous `incAndDouble(10)` expression."
   ]
  },
  {
   "cell_type": "code",
   "execution_count": 12,
   "id": "fd010839-8c21-4b11-bbf8-2c82667fe15b",
   "metadata": {},
   "outputs": [
    {
     "data": {
      "text/plain": [
       "\u001b[36mres11\u001b[39m: \u001b[32mInt\u001b[39m = \u001b[32m22\u001b[39m"
      ]
     },
     "execution_count": 12,
     "metadata": {},
     "output_type": "execute_result"
    }
   ],
   "source": [
    "operationAndDouble(increment)(10) // (10 + 1) * 2 = 22"
   ]
  },
  {
   "cell_type": "markdown",
   "id": "52287f8a-4f31-4127-8fcb-570d50c883e4",
   "metadata": {},
   "source": [
    "### abstract over method\n",
    "---\n",
    "\n",
    "Now that we understand the function type and value, let's use it to _abstract over method_ and eliminate repetitive code patterns. Recall our `IntList` data structure and operations we defined on it."
   ]
  },
  {
   "cell_type": "code",
   "execution_count": 13,
   "id": "ba3f6cfb-0ebb-499e-843c-e26d76e92793",
   "metadata": {},
   "outputs": [
    {
     "data": {
      "text/plain": [
       "defined \u001b[32mtrait\u001b[39m \u001b[36mIntList\u001b[39m\n",
       "defined \u001b[32mclass\u001b[39m \u001b[36mPair\u001b[39m\n",
       "defined \u001b[32mobject\u001b[39m \u001b[36mEnd\u001b[39m\n",
       "defined \u001b[32mobject\u001b[39m \u001b[36mIntList\u001b[39m\n",
       "\u001b[36mlist\u001b[39m: \u001b[32mIntList\u001b[39m = \u001b[33mPair\u001b[39m(\n",
       "  element = \u001b[32m1\u001b[39m,\n",
       "  rest = \u001b[33mPair\u001b[39m(\n",
       "    element = \u001b[32m2\u001b[39m,\n",
       "    rest = \u001b[33mPair\u001b[39m(element = \u001b[32m3\u001b[39m, rest = \u001b[33mPair\u001b[39m(element = \u001b[32m4\u001b[39m, rest = End))\n",
       "  )\n",
       ")\n",
       "\u001b[36mres12_5\u001b[39m: \u001b[32mInt\u001b[39m = \u001b[32m10\u001b[39m\n",
       "\u001b[36mres12_6\u001b[39m: \u001b[32mInt\u001b[39m = \u001b[32m4\u001b[39m\n",
       "\u001b[36mres12_7\u001b[39m: \u001b[32mInt\u001b[39m = \u001b[32m24\u001b[39m"
      ]
     },
     "execution_count": 13,
     "metadata": {},
     "output_type": "execute_result"
    }
   ],
   "source": [
    "sealed trait IntList\n",
    "final case class Pair(element: Int, rest: IntList) extends IntList\n",
    "final case object End extends IntList\n",
    "\n",
    "object IntList {\n",
    "    def sum(list: IntList): Int = list match {\n",
    "        case End => 0                                   // 0: Int\n",
    "        case Pair(first, rest) => first + sum(rest)     // plus(first, sum(rest)), plus: (Int, Int) => Int\n",
    "    }\n",
    "    def length(list: IntList): Int = list match {\n",
    "        case End => 0                                   // 0: Int\n",
    "        case Pair(_, rest) => 1 + length(rest)          // plus(1, length(rest)), plus: (Int, Int) => Int\n",
    "    }\n",
    "    def product(list: IntList): Int = list match {\n",
    "        case End => 1                                   // 1: Int\n",
    "        case Pair(first, rest) => first * product(rest) // mul(first, sum(rest)), mul: (Int, Int) => Int\n",
    "    }\n",
    "}\n",
    "\n",
    "val list: IntList = Pair(1, Pair(2, Pair(3, Pair(4, End))))\n",
    "\n",
    "IntList.sum(list)     // 1 + 2 + 3 + 4 = 10\n",
    "IntList.length(list)  // 1 + 1 + 1 + 1 = 4\n",
    "IntList.product(list) // 1 * 2 * 3 * 4 = 24"
   ]
  },
  {
   "cell_type": "markdown",
   "id": "b6477312-044b-442f-b1ec-8f81b8eaee74",
   "metadata": {},
   "source": [
    "Here, we can notice that all three methods of `IntList` uses same pattern,\n",
    "\n",
    "1. return some constant upon `End`\n",
    "2. perform some operation upon `Pair`\n",
    "    - not only that but we know the operation has type `(Int, Int) => Int`\n",
    "\n",
    "Now that we know about `function`, we can use it to re-define this common pattern once and use it in all the places where we see fit. In order to make it reusable, we want to give users of the operation the ability to pass a constant and an operation."
   ]
  },
  {
   "cell_type": "code",
   "execution_count": 14,
   "id": "7cf05086-d6d3-4634-b56e-09facd93348c",
   "metadata": {},
   "outputs": [
    {
     "data": {
      "text/plain": [
       "defined \u001b[32mfunction\u001b[39m \u001b[36mabstraction\u001b[39m"
      ]
     },
     "execution_count": 14,
     "metadata": {},
     "output_type": "execute_result"
    }
   ],
   "source": [
    "def abstraction(list: IntList, endCase: Int, pairCase: (Int, Int) => Int): Int = list match {\n",
    "    case End => endCase\n",
    "    case Pair(first, rest) => pairCase(first, abstraction(rest, endCase, pairCase))\n",
    "}"
   ]
  },
  {
   "cell_type": "code",
   "execution_count": 15,
   "id": "66d4806b-154b-4c5a-b804-31ad8d9a21f3",
   "metadata": {},
   "outputs": [
    {
     "data": {
      "text/plain": [
       "defined \u001b[32mobject\u001b[39m \u001b[36mIntList\u001b[39m\n",
       "\u001b[36mres14_1\u001b[39m: \u001b[32mInt\u001b[39m = \u001b[32m10\u001b[39m\n",
       "\u001b[36mres14_2\u001b[39m: \u001b[32mInt\u001b[39m = \u001b[32m4\u001b[39m\n",
       "\u001b[36mres14_3\u001b[39m: \u001b[32mInt\u001b[39m = \u001b[32m24\u001b[39m"
      ]
     },
     "execution_count": 15,
     "metadata": {},
     "output_type": "execute_result"
    }
   ],
   "source": [
    "object IntList {\n",
    "    def sum(list: IntList): Int = abstraction(list, 0, (a: Int, b: Int) => a + b)\n",
    "    def length(list: IntList): Int = abstraction(list, 0, (p: Int, q: Int) => 1 + q)\n",
    "    def product(list: IntList): Int = abstraction(list, 1, (x: Int, y: Int) => x * y)\n",
    "}\n",
    "\n",
    "IntList.sum(list)     // 1 + 2 + 3 + 4 = 10\n",
    "IntList.length(list)  // 1 + 1 + 1 + 1 = 4\n",
    "IntList.product(list) // 1 * 2 * 3 * 4 = 24"
   ]
  },
  {
   "cell_type": "markdown",
   "id": "f98fac54-b46d-41e4-bc3f-8b417aaecd9e",
   "metadata": {},
   "source": [
    "### Exercise\n",
    "---\n",
    "\n",
    "1. Why `apply` method is important in Scala?\n",
    "2. Create a function value `identity`, which takes an integer and returns it as it is. Use it with `IntToIntOpAndDoubleIt` to create an instance called `idAndDouble`. And evaluation of expression `idAndDouble(2)` should result in `4`.\n",
    "3. The `=>` in function type is right-associative, explain following type: `Int => Double => String => (Long, Short)`.\n",
    "4. We added a method `double` in `IntList` object,\n",
    "    ```\n",
    "    object IntList {\n",
    "        def double(list: IntList): IntList = list match {\n",
    "            case End => End\n",
    "            case Pair(first, rest) => Pair(first * first, double(rest))\n",
    "        }\n",
    "    }\n",
    "    ```\n",
    "    - Can we use `abstraction` method to implement `double` (just as we did with those other methods)? Explain your reasoning. \n",
    "5. Create a `max` method, which returns largest element from the two based on user-provided `compare` function. [hint: `def max(a: Int, b: Int, compare: (Int, Int) => Boolean): Int`]"
   ]
  }
 ],
 "metadata": {
  "kernelspec": {
   "display_name": "Scala",
   "language": "scala",
   "name": "scala"
  },
  "language_info": {
   "codemirror_mode": "text/x-scala",
   "file_extension": ".sc",
   "mimetype": "text/x-scala",
   "name": "scala",
   "nbconvert_exporter": "script",
   "version": "2.13.4"
  }
 },
 "nbformat": 4,
 "nbformat_minor": 5
}
