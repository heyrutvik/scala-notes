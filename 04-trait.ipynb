{
 "cells": [
  {
   "cell_type": "markdown",
   "id": "391a3b8d-6d43-404a-9b14-ae36a15fa459",
   "metadata": {},
   "source": [
    "# Trait\n",
    "---\n",
    "\n",
    "- trait abstracts over classes, just as classes abstracts over objects.\n",
    "- it allows you to write down the template that classes extending it shares.\n",
    "- it can have `abstract` as well as `concrete` members \n",
    "    - abstract member: only identifier and types are declared, implementation is not given\n",
    "    - concrete member: members with values (or implementation)\n",
    "\n",
    "### in absence of trait construct\n",
    "---\n",
    "\n",
    "Let's define two classes which are related in some way, and almost shares same properties"
   ]
  },
  {
   "cell_type": "code",
   "execution_count": 1,
   "id": "7f1d5f6f-8537-4b7d-bf36-8bbe167f22fc",
   "metadata": {},
   "outputs": [
    {
     "data": {
      "text/plain": [
       "defined \u001b[32mclass\u001b[39m \u001b[36mDeveloper\u001b[39m\n",
       "defined \u001b[32mclass\u001b[39m \u001b[36mDesigner\u001b[39m"
      ]
     },
     "execution_count": 1,
     "metadata": {},
     "output_type": "execute_result"
    }
   ],
   "source": [
    "case class Developer(name: String, language: String)\n",
    "\n",
    "case class Designer(name: String, language: String, framework: String)"
   ]
  },
  {
   "cell_type": "markdown",
   "id": "158d8ac7-c810-4c28-83fc-775bc0104f31",
   "metadata": {},
   "source": [
    "As we can see, both classes share `name` and `language` but Designer class only has `framework` property.\n",
    "\n",
    "1. `name` and `language` doesn't seem repetitive in this case, both are values and shared between two classes only. But think about some method which is ten lines long and needs to copy across five classes, that _is_ verbose.\n",
    "2. Even though we know that both classes are related, Scala won't allow us to write a method which expectes one of the classes. The only way to implement such a method would be to have a parameter of type `Any` (or `AnyRef`), but it'll have its own problem. Such as, Scala will allow us to pass a type of value to it."
   ]
  },
  {
   "cell_type": "code",
   "execution_count": 2,
   "id": "22605b64-4538-4662-ab47-ff1c5869dd71",
   "metadata": {},
   "outputs": [
    {
     "data": {
      "text/plain": [
       "defined \u001b[32mfunction\u001b[39m \u001b[36mprintLanguage\u001b[39m"
      ]
     },
     "execution_count": 2,
     "metadata": {},
     "output_type": "execute_result"
    }
   ],
   "source": [
    "def printLanguage(value: Any): Unit = ???\n",
    "\n",
    "// printLanguage(Developer(\"Dennis\", \"C\")) => \"C\"\n",
    "// printLanguage(42.0)                     => THIS DOESN'T MAKE SENSE YET SCALA WILL COMPILE THE SOURCE!"
   ]
  },
  {
   "cell_type": "markdown",
   "id": "13a3c03e-2946-42db-a7e8-369d7fbfbe80",
   "metadata": {},
   "source": [
    "### trait construct to the rescue\n",
    "---\n",
    "\n",
    "The two problems are (1) repetition of code (2) no precise supertype to write operation on them. The `trait` construct helps us to resolve them.\n",
    "\n",
    "As mentioned above, trait allows us to write down a common template for classes (solves the first problem) and by extending our classes with a trait, we are suggesting to Scala that both are related, that we give them common supertype (solves the second problem).\n",
    "\n",
    "- Syntax: `<class declaration> extends <trait>`"
   ]
  },
  {
   "cell_type": "code",
   "execution_count": 3,
   "id": "d7b48b4c-d305-487d-a17d-43f4dea37d05",
   "metadata": {},
   "outputs": [
    {
     "data": {
      "text/plain": [
       "defined \u001b[32mtrait\u001b[39m \u001b[36mProgrammer\u001b[39m\n",
       "defined \u001b[32mclass\u001b[39m \u001b[36mDeveloper\u001b[39m\n",
       "defined \u001b[32mclass\u001b[39m \u001b[36mDesigner\u001b[39m"
      ]
     },
     "execution_count": 3,
     "metadata": {},
     "output_type": "execute_result"
    }
   ],
   "source": [
    "trait Programmer {\n",
    "    // prefer `def` over `val` in trait declaration\n",
    "    def name: String\n",
    "    def language: String\n",
    "    \n",
    "    def intro: String = name + \" uses \" + language + \" programming language.\"\n",
    "}\n",
    "\n",
    "case class Developer(name: String, language: String) extends Programmer\n",
    "\n",
    "case class Designer(name: String, language: String, framework: String) extends Programmer"
   ]
  },
  {
   "cell_type": "markdown",
   "id": "f1d731c8-bf8d-4313-8639-1772aba62667",
   "metadata": {},
   "source": [
    "- `Programmer` is supertype of `Developer` and `Designer`, and they are its subtype.\n",
    "- all classes that are extending the `Programmer` trait will have `name`, `language` and `intro` properties.\n",
    "- `name` and `language` are abstract members whereas `intro` is concrete.\n",
    "- subtype will have all the members of its supertype but can hold more, like the `framework` property of `Designer` class.\n",
    "- subtype can `override` the implementation of supertype's concrete member."
   ]
  },
  {
   "cell_type": "code",
   "execution_count": 4,
   "id": "977cbb7f-f32e-49fa-8acc-3a2e4059ca61",
   "metadata": {},
   "outputs": [
    {
     "data": {
      "text/plain": [
       "defined \u001b[32mclass\u001b[39m \u001b[36mDesigner\u001b[39m\n",
       "\u001b[36mdeveloper\u001b[39m: \u001b[32mDeveloper\u001b[39m = \u001b[33mDeveloper\u001b[39m(name = \u001b[32m\"Dennis\"\u001b[39m, language = \u001b[32m\"C\"\u001b[39m)\n",
       "\u001b[36mdesigner\u001b[39m: \u001b[32mDesigner\u001b[39m = \u001b[33mDesigner\u001b[39m(\n",
       "  name = \u001b[32m\"Evan\"\u001b[39m,\n",
       "  language = \u001b[32m\"TypeScript\"\u001b[39m,\n",
       "  framework = \u001b[32m\"Vue.js\"\u001b[39m\n",
       ")"
      ]
     },
     "execution_count": 4,
     "metadata": {},
     "output_type": "execute_result"
    }
   ],
   "source": [
    "case class Designer(name: String, language: String, framework: String) extends Programmer {\n",
    "    override def intro: String = name + \" works on \" + framework + \" framework and uses \" + language + \" programming language.\"\n",
    "}\n",
    "\n",
    "val developer = Developer(\"Dennis\", \"C\")\n",
    "val designer = Designer(\"Evan\", \"TypeScript\", \"Vue.js\")"
   ]
  },
  {
   "cell_type": "code",
   "execution_count": 5,
   "id": "db162e0d-608f-46c1-a0eb-63cc4bf61ffb",
   "metadata": {},
   "outputs": [
    {
     "name": "stdout",
     "output_type": "stream",
     "text": [
      "Dennis uses C programming language.\n",
      "Evan works on Vue.js framework and uses TypeScript programming language.\n"
     ]
    }
   ],
   "source": [
    "println(developer.intro)\n",
    "println(designer.intro)"
   ]
  },
  {
   "cell_type": "markdown",
   "id": "a114b73c-b3b4-4bfc-9cc9-fc4d666a582a",
   "metadata": {},
   "source": [
    "It was the example of overwriting the supertype's method. The `Designer` class's `intro` method prints a different message than `Developer` class.\n",
    "\n",
    "Let's see how common supertype helps us to implement methods on those two classes, using pattern matching."
   ]
  },
  {
   "cell_type": "code",
   "execution_count": 6,
   "id": "ef97e74f-121e-41d8-ad51-0322700145cd",
   "metadata": {},
   "outputs": [
    {
     "data": {
      "text/plain": [
       "defined \u001b[32mfunction\u001b[39m \u001b[36mprintLanguage\u001b[39m"
      ]
     },
     "execution_count": 6,
     "metadata": {},
     "output_type": "execute_result"
    }
   ],
   "source": [
    "def printLanguage(p: Programmer): Unit = p match {\n",
    "    case Developer(_, language) => println(language)\n",
    "    case Designer(_, language, _) => println(language)\n",
    "}"
   ]
  },
  {
   "cell_type": "code",
   "execution_count": 7,
   "id": "e7b2583f-fc35-45e8-9d24-4b853ea4dbc3",
   "metadata": {},
   "outputs": [
    {
     "name": "stdout",
     "output_type": "stream",
     "text": [
      "C\n",
      "TypeScript\n"
     ]
    }
   ],
   "source": [
    "printLanguage(developer)\n",
    "printLanguage(designer)\n",
    "// printLanguage(42.0) will throw error: [found: Double, required: Programmer]"
   ]
  },
  {
   "cell_type": "markdown",
   "id": "e68c78d1-4258-48c8-a8bf-fc215dc27bd1",
   "metadata": {},
   "source": [
    "#### trait vs class\n",
    "---\n",
    "\n",
    "- trait can have abstract members, class can't<sup>1</sup>.\n",
    "- we can't create objects using trait\n",
    "\n",
    "### sealed and final modifiers\n",
    "---\n",
    "\n",
    "These modifiers provide more information to Scala about a trait and classes that are extending it\n",
    "1. If a trait is `sealed`, Scala will know that all the classes that are extending it are in the same file. It won't compile the project if class is declared in another file and extends the trait.\n",
    "2. If a class is declared as `final`, then no one can extend it further.\n",
    "3. These modifiers give us tight control over who can extend our data structure, and provides Scala enough information to flag some errors. For example, in pattern matching."
   ]
  },
  {
   "cell_type": "code",
   "execution_count": 8,
   "id": "1353f3a7-2e2e-481a-838c-92c7a7081d57",
   "metadata": {},
   "outputs": [
    {
     "data": {
      "text/plain": [
       "defined \u001b[32mtrait\u001b[39m \u001b[36mProgrammer\u001b[39m\n",
       "defined \u001b[32mclass\u001b[39m \u001b[36mDeveloper\u001b[39m\n",
       "defined \u001b[32mclass\u001b[39m \u001b[36mDesigner\u001b[39m"
      ]
     },
     "execution_count": 8,
     "metadata": {},
     "output_type": "execute_result"
    }
   ],
   "source": [
    "// same as above but with `sealed` and `final` modifiers\n",
    "\n",
    "sealed trait Programmer {\n",
    "    def name: String\n",
    "    def language: String\n",
    "    \n",
    "    def intro: String = name + \" uses \" + language + \" programming language.\"\n",
    "}\n",
    "\n",
    "final case class Developer(name: String, language: String) extends Programmer\n",
    "\n",
    "final case class Designer(name: String, language: String, framework: String) extends Programmer"
   ]
  },
  {
   "cell_type": "markdown",
   "id": "0aaf6b23-5c43-42c8-ad22-c9841a48b632",
   "metadata": {},
   "source": [
    "Let's see how Scala helps us in pattern matching,\n",
    "\n",
    "```\n",
    "def printLanguage(p: Programmer): Unit = p match {\n",
    "    case Developer(_, language) => println(language)\n",
    "    // we forget to add Designer case\n",
    "}\n",
    "\n",
    "// warning: match may not be exhaustive.\n",
    "// It would fail on the following input: Designer(_, _, _)\n",
    "```\n",
    "\n",
    "Because we declared the trait as `sealed` and Scala knows that two classes are extending it, it throws a warning on the missed match case. \n",
    "\n",
    "---\n",
    "\n",
    "[1] abstract class can.\n",
    "\n",
    "---\n",
    "\n",
    "### Exercise\n",
    "---\n",
    "\n",
    "1) Define a trait called `Shape` and give it three methods.\n",
    "    - `sides` returns the number of sides\n",
    "    - `perimeter` returns the total length of the sides\n",
    "    - `area` returns the area\n",
    "    \n",
    "    Implement `Shape` with three classes: `Circle`, `Rectangle` and `Square`, and provide implementations of each of the three methods.\n",
    "\n",
    "2) Write a method in the `Shape` object to return the `area` of any provided `Shape` using pattern matching.\n",
    "\n",
    "3) What's the use of `sealed` and `final` modifiers?\n",
    "\n",
    "4) Use `sealed` and `final` modifiers in the first exercise (if not already), and try to make a fourth class implementing the `Shape` in a separate file. What errors Scala raises? \n",
    "\n",
    "5) Why is it beneficial to define `def` in trait, rather than `val`?"
   ]
  }
 ],
 "metadata": {
  "kernelspec": {
   "display_name": "Scala",
   "language": "scala",
   "name": "scala"
  },
  "language_info": {
   "codemirror_mode": "text/x-scala",
   "file_extension": ".sc",
   "mimetype": "text/x-scala",
   "name": "scala",
   "nbconvert_exporter": "script",
   "version": "2.13.4"
  }
 },
 "nbformat": 4,
 "nbformat_minor": 5
}
