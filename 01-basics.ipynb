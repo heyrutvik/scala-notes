{
 "cells": [
  {
   "cell_type": "markdown",
   "id": "fe5cbf28-4dce-4964-8453-77626266ed82",
   "metadata": {},
   "source": [
    "# Scala Intro\n",
    "---\n",
    "\n",
    "- It's a hosted language, and _primary_ host is JVM.\n",
    "- statically typed general purpose langauge.\n",
    "    - statically typed: it type checks the source \"statically\", without running the source.\n",
    "    - general purpose: it's design to write software for wide variety of application domains\n",
    "\n",
    "### expressions, types and objects\n",
    "---\n",
    "\n",
    "- these are the entities of three universes\n",
    "    - an expression lives at `source level`, and valid Scala program is made up of expressions.\n",
    "    - every expression has type, which is \"labelled\" to an expression at `compile-time`.\n",
    "    - an expression _evaluates_ to a value at `run-time`, and becuase every value is _object_ in Scala, we will refer to it as object from now.\n",
    "- evaluation strategy<sup>1</sup>\n",
    "    - Scala has `strict` evaluation strategy, which means it evaluates expression as soon as they are available. Also, arguments of method call gets evaluated before passing it down.\n",
    "    \n",
    "#### examples\n",
    "---\n",
    "\n",
    "- `\"Hello World\"` is an expression of type `String`, and it evaluates to a String object \"Hello World\". This kind of expression is called `literal expression`. An expression is literal if it's source level representation and object representation are same. Other examples would be, `1`, `1.2`, `false` etc..."
   ]
  },
  {
   "cell_type": "code",
   "execution_count": 1,
   "id": "040b156a-645e-440f-baed-2a243efb1fec",
   "metadata": {},
   "outputs": [
    {
     "data": {
      "text/plain": [
       "\u001b[36mres0\u001b[39m: \u001b[32mString\u001b[39m = \u001b[32m\"Hello World\"\u001b[39m"
      ]
     },
     "execution_count": 1,
     "metadata": {},
     "output_type": "execute_result"
    }
   ],
   "source": [
    "\"Hello World\""
   ]
  },
  {
   "cell_type": "markdown",
   "id": "ec85fb4e-596f-457e-92cb-8361bed275fa",
   "metadata": {},
   "source": [
    "### strict evaluation in action\n",
    "---"
   ]
  },
  {
   "cell_type": "code",
   "execution_count": 2,
   "id": "cd6b3806-cd26-4962-b830-405306847364",
   "metadata": {},
   "outputs": [
    {
     "data": {
      "text/plain": [
       "\u001b[36mres1\u001b[39m: \u001b[32mString\u001b[39m = \u001b[32m\"lo W\"\u001b[39m"
      ]
     },
     "execution_count": 2,
     "metadata": {},
     "output_type": "execute_result"
    }
   ],
   "source": [
    "\"Hello World\".take(5 + 2).drop(1 + 2)"
   ]
  },
  {
   "cell_type": "markdown",
   "id": "19959594-eb1b-43d9-aea0-c3d4b2abb217",
   "metadata": {},
   "source": [
    "Let's go through an evaluation steps, one at a time, for above expression.\n",
    "\n",
    "```scala\n",
    "\"Hello World\".take(5 + 2).drop(1 + 2)\n",
    "\"Hello World\"         // evaluate first expression, result: \"Hello World\"\n",
    "5 + 2                 // evaluate argument before passing it to method call, result: 7\n",
    "\"Hello World\".take(7) // evaluate method call, result: \"Hello W\"\n",
    "1 + 2                 // evaluate argument before passing it to method call, result: 3\n",
    "\"Hello W\".drop(3)     // evaluate method call, result: \"lo W\"\n",
    "\"lo W\"                // final result\n",
    "```"
   ]
  },
  {
   "cell_type": "markdown",
   "id": "d58aaf42-119d-498b-961d-8a2534c1e233",
   "metadata": {},
   "source": [
    "### abstracting over expressions\n",
    "---\n",
    "\n",
    "- Scala provides three constructs to abstract over expressions:\n",
    "    - `var` - variable, allow to change its value over the time (mutable)\n",
    "    - `val` - value, does not allow to change its value (immutable)\n",
    "    - `def` - definition, evalutates its expression each time on call-site\n",
    "- Syntax: `<construct> <identifier>: <type> = <expression>`<sup>2</sup>"
   ]
  },
  {
   "cell_type": "code",
   "execution_count": 3,
   "id": "52b87c9b-cb32-4ee3-a0e5-ad41138a1a1b",
   "metadata": {},
   "outputs": [
    {
     "data": {
      "text/html": [
       "<div class=\"jp-RenderedText\">\n",
       "<pre><code><span style=\"color: rgb(0, 187, 187)\"><span class=\"ansi-cyan-fg\">count</span></span>: <span style=\"color: rgb(0, 187, 0)\"><span class=\"ansi-green-fg\">Int</span></span> = <span style=\"color: rgb(0, 187, 0)\"><span class=\"ansi-green-fg\">1</span></span>\n",
       "<span style=\"color: rgb(0, 187, 187)\"><span class=\"ansi-cyan-fg\">pi</span></span>: <span style=\"color: rgb(0, 187, 0)\"><span class=\"ansi-green-fg\">Double</span></span> = <span style=\"color: rgb(0, 187, 0)\"><span class=\"ansi-green-fg\">3.14</span></span>\n",
       "defined <span style=\"color: rgb(0, 187, 0)\"><span class=\"ansi-green-fg\">function</span></span> <span style=\"color: rgb(0, 187, 187)\"><span class=\"ansi-cyan-fg\">userId</span></span></code></pre>\n",
       "</div>"
      ],
      "text/plain": [
       "\u001b[36mcount\u001b[39m: \u001b[32mInt\u001b[39m = \u001b[32m1\u001b[39m\n",
       "\u001b[36mpi\u001b[39m: \u001b[32mDouble\u001b[39m = \u001b[32m3.14\u001b[39m\n",
       "defined \u001b[32mfunction\u001b[39m \u001b[36muserId\u001b[39m"
      ]
     },
     "metadata": {},
     "output_type": "display_data"
    }
   ],
   "source": [
    "// annotating a type unfront is optional (see `pi` declaration)\n",
    "\n",
    "var count: Int = 1\n",
    "val pi = 3.14 // see the result below, it inferred the type `Double`\n",
    "def userId: Long = 123L"
   ]
  },
  {
   "cell_type": "markdown",
   "id": "9a64e497-4ec9-44bc-85f2-8c0bc79a7a81",
   "metadata": {},
   "source": [
    "- Notice that `def` declaration didn't evaluate to a value but it printed `defined function userId`. As mentioned, it evaluates its body at call-site."
   ]
  },
  {
   "cell_type": "code",
   "execution_count": 4,
   "id": "de213d9f-f2e2-485e-9e0e-9782dc409079",
   "metadata": {},
   "outputs": [
    {
     "data": {
      "text/plain": [
       "\u001b[36mres3\u001b[39m: \u001b[32mLong\u001b[39m = \u001b[32m123L\u001b[39m"
      ]
     },
     "execution_count": 4,
     "metadata": {},
     "output_type": "execute_result"
    }
   ],
   "source": [
    "userId"
   ]
  },
  {
   "cell_type": "markdown",
   "id": "eaf55c6d-fbcb-428d-8ad1-466466bb32bb",
   "metadata": {},
   "source": [
    "- Difference between `val` and `def`:\n",
    "    - `val` evaluates its expression right away, only once. \n",
    "    - `def` evaluates its expression every time.\n",
    "\n",
    "let's add `println` statement in expression."
   ]
  },
  {
   "cell_type": "code",
   "execution_count": 5,
   "id": "6f78ced2-495c-4a3b-8d76-f612f8d6d694",
   "metadata": {},
   "outputs": [
    {
     "name": "stdout",
     "output_type": "stream",
     "text": [
      "evaluating pi\n",
      "evaluating userId\n",
      "evaluating userId\n",
      "evaluating userId\n"
     ]
    },
    {
     "data": {
      "text/plain": [
       "\u001b[36mpi\u001b[39m: \u001b[32mDouble\u001b[39m = \u001b[32m3.14\u001b[39m\n",
       "defined \u001b[32mfunction\u001b[39m \u001b[36muserId\u001b[39m\n",
       "\u001b[36mres4_2\u001b[39m: \u001b[32mDouble\u001b[39m = \u001b[32m3.14\u001b[39m\n",
       "\u001b[36mres4_3\u001b[39m: \u001b[32mDouble\u001b[39m = \u001b[32m3.14\u001b[39m\n",
       "\u001b[36mres4_4\u001b[39m: \u001b[32mDouble\u001b[39m = \u001b[32m3.14\u001b[39m\n",
       "\u001b[36mres4_5\u001b[39m: \u001b[32mLong\u001b[39m = \u001b[32m123L\u001b[39m\n",
       "\u001b[36mres4_6\u001b[39m: \u001b[32mLong\u001b[39m = \u001b[32m123L\u001b[39m\n",
       "\u001b[36mres4_7\u001b[39m: \u001b[32mLong\u001b[39m = \u001b[32m123L\u001b[39m"
      ]
     },
     "execution_count": 5,
     "metadata": {},
     "output_type": "execute_result"
    }
   ],
   "source": [
    "val pi: Double = {\n",
    "    println(\"evaluating pi\")\n",
    "    3.14\n",
    "}\n",
    "\n",
    "def userId = {\n",
    "    println(\"evaluating userId\")\n",
    "    123L\n",
    "}\n",
    "\n",
    "pi // calling pi\n",
    "pi // calling pi\n",
    "pi // calling pi\n",
    "\n",
    "userId // calling userId\n",
    "userId // calling userId\n",
    "userId // calling userId"
   ]
  },
  {
   "cell_type": "markdown",
   "id": "2de52876-c0c0-48d5-8af0-20404c189bf6",
   "metadata": {},
   "source": [
    "Notice that `evaluating pi` gets printed only once (at the time of declaration) even though we are \"accessing\" `pi` three times, on the other hand, `def` doesn't print anything at the time of declaration but it did print `evaluating userId` each time we \"called\" `userId`.\n",
    "\n",
    "### statements and compound expressions\n",
    "---\n",
    "\n",
    "Everything is expression in Scala, which means it always returns some type of value.\n",
    "- a `statement` is an expression which returns a value of type `Unit`.\n",
    "    - `Unit` has only one value and literal expression of it is `()`.\n",
    "    - The types which has single value are called `Singleton type`. \n",
    "    - example, `println(\"hello world\")` will print \"hello world\" on console and returns `()`.\n",
    "- a `compound expression` is group of expressions, enclosed in `{` and `}`, usually called `block`.\n",
    "    - its type and return value is determined by the last expression of block.\n",
    "    - example, \n",
    "        - `{println(\"hello world\"); 1.2}` inline it by separating expressions with `;`\n",
    "        - type of above expression will be `Double` and value of whole expression will be `1.2`.\n",
    "        - ```scala\n",
    "          {\n",
    "            println(\"hello world\")\n",
    "            1.2\n",
    "          }\n",
    "          ```\n",
    "          it's the same expression as above, but without semicolons because here we are separating expression with newline.\n",
    "          \n",
    "### objects (fields and methods)\n",
    "---\n",
    "\n",
    "As mentioned, in Scala, every value is object. Following is the way to interact with object.\n",
    "- Syntax: `<object>.<method>(<params>...)`\n",
    "- Example: `\"Hello World\".take(5)`\n",
    "\n",
    "The above expression is equivalent of `\"Hello World\" take 5`, compiler will translate this into above expression with `.`, `(` and `)`.\n",
    "Which means, when we write `1 + 2`, what we are actaully doing is, calling a `+` method on integer object `1` with argument object `2`.\n",
    "\n",
    "Let's see couple of examples,"
   ]
  },
  {
   "cell_type": "code",
   "execution_count": 6,
   "id": "d83c8695-a46e-44d1-ae41-36918ce04816",
   "metadata": {},
   "outputs": [
    {
     "data": {
      "text/plain": [
       "\u001b[36mres5\u001b[39m: \u001b[32mInt\u001b[39m = \u001b[32m3\u001b[39m"
      ]
     },
     "execution_count": 6,
     "metadata": {},
     "output_type": "execute_result"
    }
   ],
   "source": [
    "1 + 2"
   ]
  },
  {
   "cell_type": "markdown",
   "id": "4e539f53-aa3e-4ede-8d92-d7bde8b7c823",
   "metadata": {},
   "source": [
    "1.+(2)"
   ]
  },
  {
   "cell_type": "code",
   "execution_count": 7,
   "id": "3d8bdfde-f6f7-4d8b-8894-ec92bfc284da",
   "metadata": {},
   "outputs": [
    {
     "data": {
      "text/plain": [
       "\u001b[36mres6\u001b[39m: \u001b[32mString\u001b[39m = \u001b[32m\"lo W\"\u001b[39m"
      ]
     },
     "execution_count": 7,
     "metadata": {},
     "output_type": "execute_result"
    }
   ],
   "source": [
    "\"Hello World\" take 7 drop 3"
   ]
  },
  {
   "cell_type": "code",
   "execution_count": 8,
   "id": "e74c05d5-80e8-49db-88a6-1bf5492af106",
   "metadata": {},
   "outputs": [
    {
     "data": {
      "text/plain": [
       "\u001b[36mres7\u001b[39m: \u001b[32mString\u001b[39m = \u001b[32m\"lo W\"\u001b[39m"
      ]
     },
     "execution_count": 8,
     "metadata": {},
     "output_type": "execute_result"
    }
   ],
   "source": [
    "\"Hello World\".take(7).drop(3)"
   ]
  },
  {
   "cell_type": "markdown",
   "id": "2b7a1c1e-d2a6-422a-b0e4-6ab5fc43f310",
   "metadata": {},
   "source": [
    "#### define object\n",
    "\n",
    "> object is combination of data (fields) and operations (methods) on that data.\n",
    "\n",
    "- Syntax: `object <name> { <body> }`\n",
    "    - <body> is collection of expressions and declarations."
   ]
  },
  {
   "cell_type": "code",
   "execution_count": 9,
   "id": "d3f6fc3a-a7ee-4366-b054-fe8601b80290",
   "metadata": {},
   "outputs": [
    {
     "data": {
      "text/plain": [
       "defined \u001b[32mobject\u001b[39m \u001b[36mPerson\u001b[39m"
      ]
     },
     "execution_count": 9,
     "metadata": {},
     "output_type": "execute_result"
    }
   ],
   "source": [
    "object Person {\n",
    "    println(\"evaluating body\")\n",
    "    \n",
    "    val name = {\n",
    "        println(\"evaluating field\")\n",
    "        \"John\"\n",
    "    }\n",
    "    \n",
    "    def say(greet: String) = {\n",
    "        println(\"evaluating method\")\n",
    "        name + \" greets \" + greet\n",
    "    }\n",
    "}"
   ]
  },
  {
   "cell_type": "markdown",
   "id": "75144f9b-8bed-46d6-8839-5fb354e5beaa",
   "metadata": {},
   "source": [
    "Similar to `def`, declaring `object` doesn't evaluate it's body right away. It will be evaluated, once, on referring it by its name, in this case, `Person`."
   ]
  },
  {
   "cell_type": "code",
   "execution_count": 10,
   "id": "432474a3-deed-4513-aaae-f46dc8fd9c6c",
   "metadata": {},
   "outputs": [
    {
     "name": "stdout",
     "output_type": "stream",
     "text": [
      "evaluating body\n",
      "evaluating field\n"
     ]
    },
    {
     "data": {
      "text/plain": [
       "\u001b[36mres9\u001b[39m: \u001b[32mPerson\u001b[39m.type = ammonite.$sess.cmd8$Helper$Person$@3e754b4a"
      ]
     },
     "execution_count": 10,
     "metadata": {},
     "output_type": "execute_result"
    }
   ],
   "source": [
    "Person"
   ]
  },
  {
   "cell_type": "code",
   "execution_count": 11,
   "id": "d9836b34-4498-406d-8a47-1da92f7710cf",
   "metadata": {},
   "outputs": [
    {
     "data": {
      "text/plain": [
       "\u001b[36mres10\u001b[39m: \u001b[32mPerson\u001b[39m.type = ammonite.$sess.cmd8$Helper$Person$@3e754b4a"
      ]
     },
     "execution_count": 11,
     "metadata": {},
     "output_type": "execute_result"
    }
   ],
   "source": [
    "Person"
   ]
  },
  {
   "cell_type": "markdown",
   "id": "86770797-78d1-475e-85c1-01c4af46e33c",
   "metadata": {},
   "source": [
    "Notes:\n",
    "- the type of object will be `<name of object>.type`, and the object is the only value of that type. \n",
    "    - similiar to `Unit`, objects declared using `object` syntax are `Singleton`.\n",
    "- we called `Perosn` twice but it printed those messages once.\n",
    "- field can be defined with `var` and `val`.\n",
    "- method is defined with `def`.\n",
    "    - method can take arguments, in this case, `greet` is type String.\n",
    "    - annotating argument type is compulsory, but return type is optional.\n",
    "- we can access fields or methods with `.` notation. As `Person.name` or `Person.say(\"hello\")`."
   ]
  },
  {
   "cell_type": "code",
   "execution_count": 12,
   "id": "81e23e0b-d706-404c-9090-e6c4af50f35c",
   "metadata": {},
   "outputs": [
    {
     "name": "stdout",
     "output_type": "stream",
     "text": [
      "evaluating method\n"
     ]
    },
    {
     "data": {
      "text/plain": [
       "\u001b[36mres11_0\u001b[39m: \u001b[32mString\u001b[39m = \u001b[32m\"John\"\u001b[39m\n",
       "\u001b[36mres11_1\u001b[39m: \u001b[32mString\u001b[39m = \u001b[32m\"John greets hello\"\u001b[39m"
      ]
     },
     "execution_count": 12,
     "metadata": {},
     "output_type": "execute_result"
    }
   ],
   "source": [
    "Person.name         // accessing field\n",
    "Person.say(\"hello\") // calling method"
   ]
  },
  {
   "cell_type": "markdown",
   "id": "da840a21-79b9-4107-a4c7-64f191524086",
   "metadata": {},
   "source": [
    "---\n",
    "\n",
    "[1] it also has limited support for `lazy` (non-strict) evaluation.\n",
    "\n",
    "[2] type of each expression is inferable, so we can ommit the `: <type>` part.\n",
    "\n",
    "---\n",
    "\n",
    "### Exercise\n",
    "\n",
    "1) Define a method called `personGreets` which take two arguments, a greet message and Person object, and prints whatever the output that `say` method would return given the greet message. [hint: `personGreets(\"hi there\", Person)` would print `John greets hi there`]\n",
    "\n",
    "2) Identify the definition of statement. (choose one)\n",
    "    - declaration of `var`, `val` or `def`\n",
    "    - an expression that returns a Unit value\n",
    "    - an expression that returns a value except of type Unit\n",
    "    - an expression that doesn't return any value\n",
    "    \n",
    "3) Explain the difference between `val` and `var`, and use cases.\n",
    "\n",
    "4) Explore Scala docs to implement following expressions. [hints: (1) see the method types (2) https://www.scala-lang.org/api/current/scala/collection/StringOps.html]\n",
    "    - concate two strings\n",
    "    - find the last character of a string\n",
    "    - length of a string\n",
    "    - convert a string to double\n",
    "    - concate a string 5 times\n",
    "\n",
    "5) Write down one literal expression for all the types you can think of. [hint: `2` for `Int`]"
   ]
  }
 ],
 "metadata": {
  "kernelspec": {
   "display_name": "Scala",
   "language": "scala",
   "name": "scala"
  },
  "language_info": {
   "codemirror_mode": "text/x-scala",
   "file_extension": ".sc",
   "mimetype": "text/x-scala",
   "name": "scala",
   "nbconvert_exporter": "script",
   "version": "2.13.4"
  }
 },
 "nbformat": 4,
 "nbformat_minor": 5
}
