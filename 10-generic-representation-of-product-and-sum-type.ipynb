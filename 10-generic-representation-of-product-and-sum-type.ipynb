{
 "cells": [
  {
   "cell_type": "markdown",
   "id": "4abdc125-f87e-4b86-912e-c65990776dc0",
   "metadata": {},
   "source": [
    "# Generic Product/Sum type\n",
    "---\n",
    "\n",
    "Let's review what's product type and sum type. A product type represents \"has a - and\" relationship with component types. For example, a user has an id and a name. In Scala, we would use `case class` to model it.\n",
    "\n",
    "```scala\n",
    "case class Person(id: Int, name: String)\n",
    "```\n",
    "\n",
    "A sum type represents \"is a - or\" relationship. For example, a shape is either a circle or square. We use `trait` and `extends` keyword to model it in Scala.\n",
    "\n",
    "```scala\n",
    "sealed trait Shape\n",
    "final case class Circle(radius: Int) extends Shape\n",
    "final case class Square(side: Int) extends Shape\n",
    "```\n",
    "\n",
    "### Generic Product type\n",
    "---\n",
    "\n",
    "Let's say we want to return a product type, where first element has a type `Int` and second has `Double`. Let's model it in Scala,\n",
    "\n",
    "```scala\n",
    "case class IntAndDouble(int: Int, double: Double)\n",
    "```\n",
    "\n",
    "The problem here is we will need to create each time new `case class` for different combination of types. But we can avoid doing that using Scala's Generic."
   ]
  },
  {
   "cell_type": "code",
   "execution_count": 1,
   "id": "83ade662-076e-4e0b-b87f-d371d9d083c1",
   "metadata": {},
   "outputs": [
    {
     "data": {
      "text/plain": [
       "defined \u001b[32mclass\u001b[39m \u001b[36mPair\u001b[39m"
      ]
     },
     "execution_count": 1,
     "metadata": {},
     "output_type": "execute_result"
    }
   ],
   "source": [
    "case class Pair[A, B](first: A, second: B)"
   ]
  },
  {
   "cell_type": "markdown",
   "id": "16bf4e44-e8e3-4d0d-ac5a-6fe99416b995",
   "metadata": {},
   "source": [
    "Now, we can use this generic `Pair` type to represent the combination of any two types to use as a product type."
   ]
  },
  {
   "cell_type": "code",
   "execution_count": 2,
   "id": "d79aa5d1-78d3-43d7-9ca1-f97c527bd0d7",
   "metadata": {},
   "outputs": [
    {
     "data": {
      "text/plain": [
       "\u001b[36mres1_0\u001b[39m: \u001b[32mPair\u001b[39m[\u001b[32mInt\u001b[39m, \u001b[32mDouble\u001b[39m] = \u001b[33mPair\u001b[39m(\u001b[32m1\u001b[39m, \u001b[32m1.0\u001b[39m)\n",
       "\u001b[36mres1_1\u001b[39m: \u001b[32mPair\u001b[39m[\u001b[32mString\u001b[39m, \u001b[32mChar\u001b[39m] = \u001b[33mPair\u001b[39m(\u001b[32m\"abc\"\u001b[39m, \u001b[32m'z'\u001b[39m)"
      ]
     },
     "execution_count": 2,
     "metadata": {},
     "output_type": "execute_result"
    }
   ],
   "source": [
    "Pair[Int, Double](1, 1.0)\n",
    "Pair[String, Char](\"abc\", 'z')"
   ]
  },
  {
   "cell_type": "markdown",
   "id": "f96c3832-72bf-4bf6-97d3-113c5917b56e",
   "metadata": {},
   "source": [
    "Scala already has tuple type to represent such modelling. It has it's 22 variant, which means it can hold up to 22 elements of different types of combination. We can access elements using the `_N` property, where `N` is the index of elements starting from 1."
   ]
  },
  {
   "cell_type": "code",
   "execution_count": 3,
   "id": "8a66f522-dc8a-40fc-8f43-0534194f85a2",
   "metadata": {},
   "outputs": [
    {
     "data": {
      "text/plain": [
       "\u001b[36mt2\u001b[39m: (\u001b[32mInt\u001b[39m, \u001b[32mDouble\u001b[39m) = (\u001b[32m1\u001b[39m, \u001b[32m1.0\u001b[39m)\n",
       "\u001b[36mt5\u001b[39m: (\u001b[32mInt\u001b[39m, \u001b[32mLong\u001b[39m, \u001b[32mDouble\u001b[39m, \u001b[32mFloat\u001b[39m, \u001b[32mShort\u001b[39m) = (\u001b[32m1\u001b[39m, \u001b[32m1L\u001b[39m, \u001b[32m1.0\u001b[39m, \u001b[32m1.0F\u001b[39m, \u001b[32m1\u001b[39m)"
      ]
     },
     "execution_count": 3,
     "metadata": {},
     "output_type": "execute_result"
    }
   ],
   "source": [
    "val t2 = Tuple2[Int, Double](1, 1.0)\n",
    "val t5 = Tuple5(1, 1L, 1.0, 1f, 1.toShort)"
   ]
  },
  {
   "cell_type": "code",
   "execution_count": 4,
   "id": "0a5696dd-b7f2-401e-9bb7-531a63fea8dc",
   "metadata": {},
   "outputs": [
    {
     "data": {
      "text/plain": [
       "\u001b[36mres3_0\u001b[39m: \u001b[32mDouble\u001b[39m = \u001b[32m1.0\u001b[39m\n",
       "\u001b[36mres3_1\u001b[39m: \u001b[32mDouble\u001b[39m = \u001b[32m1.0\u001b[39m"
      ]
     },
     "execution_count": 4,
     "metadata": {},
     "output_type": "execute_result"
    }
   ],
   "source": [
    "t2._2\n",
    "t5._3"
   ]
  },
  {
   "cell_type": "markdown",
   "id": "d3682258-050a-48e5-b69c-b5e6dd48dfe3",
   "metadata": {},
   "source": [
    "### Generic Sum type\n",
    "---\n",
    "\n",
    "Similarly, we would want to write a generic structure to represent the sum type instead of writing a new data structure. If we want to write generic representation of sum type, say, Int _or_ Double, we can do it as follows, "
   ]
  },
  {
   "cell_type": "code",
   "execution_count": 5,
   "id": "02110165-6ccb-4daa-8d14-d3294ac6da37",
   "metadata": {},
   "outputs": [
    {
     "data": {
      "text/plain": [
       "defined \u001b[32mtrait\u001b[39m \u001b[36mSum\u001b[39m\n",
       "defined \u001b[32mclass\u001b[39m \u001b[36mLeft\u001b[39m\n",
       "defined \u001b[32mclass\u001b[39m \u001b[36mRight\u001b[39m"
      ]
     },
     "execution_count": 5,
     "metadata": {},
     "output_type": "execute_result"
    }
   ],
   "source": [
    "sealed trait Sum[A, B]\n",
    "final case class Left[A, B](value: A) extends Sum[A, B]\n",
    "final case class Right[A, B](value: B) extends Sum[A, B]"
   ]
  },
  {
   "cell_type": "markdown",
   "id": "6e02033f-b5b9-4cba-91c6-69feecec4275",
   "metadata": {},
   "source": [
    "We can use `Sum` type to model sum types."
   ]
  },
  {
   "cell_type": "code",
   "execution_count": 6,
   "id": "d33eca3c-f081-42fc-9132-a7b8638ae7e0",
   "metadata": {},
   "outputs": [
    {
     "data": {
      "text/plain": [
       "defined \u001b[32mtype\u001b[39m \u001b[36mIntOrDouble\u001b[39m\n",
       "defined \u001b[32mtype\u001b[39m \u001b[36mErrorOrResult\u001b[39m\n",
       "defined \u001b[32mfunction\u001b[39m \u001b[36mdivide\u001b[39m"
      ]
     },
     "execution_count": 6,
     "metadata": {},
     "output_type": "execute_result"
    }
   ],
   "source": [
    "type IntOrDouble = Sum[Int, Double] // int OR Double\n",
    "\n",
    "type ErrorOrResult = Sum[String, Int] // error: string OR result: integer\n",
    "\n",
    "def divide(a: Int, b: Int): ErrorOrResult = \n",
    "    if (b == 0) Left(\"denominator is zero, undefined operation.\")\n",
    "    else Right(a / b)"
   ]
  },
  {
   "cell_type": "code",
   "execution_count": 7,
   "id": "c9f55405-3b49-4477-a4bf-ef2131280979",
   "metadata": {},
   "outputs": [
    {
     "data": {
      "text/plain": [
       "\u001b[36mres6\u001b[39m: \u001b[32mErrorOrResult\u001b[39m = \u001b[33mRight\u001b[39m(\u001b[32m2\u001b[39m)"
      ]
     },
     "execution_count": 7,
     "metadata": {},
     "output_type": "execute_result"
    }
   ],
   "source": [
    "divide(4, 2) // will return result in `Right`"
   ]
  },
  {
   "cell_type": "code",
   "execution_count": 8,
   "id": "be7375c2-225c-49b1-8f8e-5dea8b6132b2",
   "metadata": {},
   "outputs": [
    {
     "data": {
      "text/plain": [
       "\u001b[36mres7\u001b[39m: \u001b[32mErrorOrResult\u001b[39m = \u001b[33mLeft\u001b[39m(\u001b[32m\"denominator is zero, undefined operation.\"\u001b[39m)"
      ]
     },
     "execution_count": 8,
     "metadata": {},
     "output_type": "execute_result"
    }
   ],
   "source": [
    "divide(4, 0) // will return error message in `Left`"
   ]
  },
  {
   "cell_type": "markdown",
   "id": "f237489c-d5f1-4d1f-8a97-0f8a4d447be5",
   "metadata": {},
   "source": [
    "Here, we used the `type` keyword to assign a type to some identifier, like a variable. It is called `type alias`. Rather than writing long types each time, we can give it a name and use that name at all the places. So, in your head, you can replace `ErrorOrResult` with `Sum[String, Int]`.\n",
    "\n",
    "Note: there is the `Either[A, B]` type in the Scala standard library same as our `Sum[A, B]` type."
   ]
  },
  {
   "cell_type": "markdown",
   "id": "2b9d28ed-0e97-40f0-a05d-3009326f95bb",
   "metadata": {},
   "source": [
    "### abstractions using generic data type\n",
    "---\n",
    "\n",
    "We do represent some common abstraction using all these generic types. For example, a list represents a computation which can produce more than one value. Similarly, we can represent a computation which may return a result or nothing. Let's define such a type, and name it `Maybe`."
   ]
  },
  {
   "cell_type": "code",
   "execution_count": 9,
   "id": "01862224-9e68-4ed2-a5e6-2e3f30d933ff",
   "metadata": {},
   "outputs": [
    {
     "data": {
      "text/plain": [
       "defined \u001b[32mtrait\u001b[39m \u001b[36mMaybe\u001b[39m\n",
       "defined \u001b[32mclass\u001b[39m \u001b[36mFull\u001b[39m\n",
       "defined \u001b[32mclass\u001b[39m \u001b[36mEmpty\u001b[39m"
      ]
     },
     "execution_count": 9,
     "metadata": {},
     "output_type": "execute_result"
    }
   ],
   "source": [
    "sealed trait Maybe[A]\n",
    "final case class Full[A](value: A) extends Maybe[A]\n",
    "final case class Empty[A]() extends Maybe[A]"
   ]
  },
  {
   "cell_type": "markdown",
   "id": "4920b8f2-3b9e-4d59-9a00-84adbaff2679",
   "metadata": {},
   "source": [
    "In Scala, we use the type system to encode properties we want our programs to maintain. One common property is \"correctly handle error\". If we encode an optional value in a type system, such as `Maybe`, the compiler will force us to consider the case where a value is not available, thus increasing the robustness of code.\n",
    "\n",
    "For example, in the above example of the `divide` method, let's say we don't want to return an error message and only return something which indicates that answer is not available, then we could use `Maybe` type."
   ]
  },
  {
   "cell_type": "code",
   "execution_count": 10,
   "id": "fb19a836-ed7c-4150-a3aa-6565cd1105cb",
   "metadata": {},
   "outputs": [
    {
     "data": {
      "text/plain": [
       "defined \u001b[32mfunction\u001b[39m \u001b[36mdivide\u001b[39m"
      ]
     },
     "execution_count": 10,
     "metadata": {},
     "output_type": "execute_result"
    }
   ],
   "source": [
    "def divide(a: Int, b: Int): Maybe[Int] = \n",
    "    if (b == 0) Empty[Int]()\n",
    "    else Full[Int](a / b)"
   ]
  },
  {
   "cell_type": "code",
   "execution_count": 11,
   "id": "9e229333-4ba8-4036-8f4f-652fbf0fe66e",
   "metadata": {},
   "outputs": [
    {
     "data": {
      "text/plain": [
       "\u001b[36mres10\u001b[39m: \u001b[32mMaybe\u001b[39m[\u001b[32mInt\u001b[39m] = \u001b[33mFull\u001b[39m(\u001b[32m2\u001b[39m)"
      ]
     },
     "execution_count": 11,
     "metadata": {},
     "output_type": "execute_result"
    }
   ],
   "source": [
    "divide(4, 2) // will return result in `Full`"
   ]
  },
  {
   "cell_type": "code",
   "execution_count": 12,
   "id": "b6eb28fe-4705-4267-a332-ef32da69338d",
   "metadata": {},
   "outputs": [
    {
     "data": {
      "text/plain": [
       "\u001b[36mres11\u001b[39m: \u001b[32mMaybe\u001b[39m[\u001b[32mInt\u001b[39m] = Empty()"
      ]
     },
     "execution_count": 12,
     "metadata": {},
     "output_type": "execute_result"
    }
   ],
   "source": [
    "divide(4, 0) // will return `Empty`"
   ]
  },
  {
   "cell_type": "markdown",
   "id": "1a9993a1-bf31-42b4-b859-8b30b5548ae0",
   "metadata": {},
   "source": [
    "#### generics versus traits\n",
    "---\n",
    "\n",
    "We can represent product type using both, a `case class` or using generic `Pair` type. The same can be said about sum type, a `trait/extends` or using generic `Sum` type. The pros/cons are apparent. In generic representation, one can't use property names as per domain of the model. And on the other hand, generic representations are more flexible compared to trait approach. The decision is up to the style of programming a team adopts.\n",
    "\n",
    "### Exercise\n",
    "---\n",
    "\n",
    "1. Create an instance of `Pair[Long, String]`, and access both values.\n",
    "\n",
    "2. Create an instance of `Tuple3` with whatever type parameters, and access first and third element of it.\n",
    "\n",
    "3. Write `fold` on `Sum[A, B]` type.\n",
    "\n",
    "4. Write `fold` on `Maybe[A]` type.\n",
    "\n",
    "5. Explain your reasoning of using generic types and trait types."
   ]
  }
 ],
 "metadata": {
  "kernelspec": {
   "display_name": "Scala",
   "language": "scala",
   "name": "scala"
  },
  "language_info": {
   "codemirror_mode": "text/x-scala",
   "file_extension": ".scala",
   "mimetype": "text/x-scala",
   "name": "scala",
   "nbconvert_exporter": "script",
   "version": "2.12.11"
  }
 },
 "nbformat": 4,
 "nbformat_minor": 5
}
