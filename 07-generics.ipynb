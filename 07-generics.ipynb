{
 "cells": [
  {
   "cell_type": "markdown",
   "id": "35d74b64-23e9-474b-912a-fc7dd18f60c1",
   "metadata": {},
   "source": [
    "# Generics\n",
    "---\n",
    "\n",
    "If you notice, we have two problems with the way we declared `IntList` and its operations,\n",
    "1. It's restricted to `Int` elements, which means we would need to re-declare a linked list for each type of elements we want to hold.\n",
    "2. The operations defined on it, some of them follow a common pattern. Lot of code repetition.\n",
    "\n",
    "To mitigate the first problem, we need some mechanism to _abstract over types_ so that we can use same ADT with different concrete types. And for the later problem, we need a way to _abstract over metods_ so that we can avoid repetition of common patterns.\n",
    "\n",
    "In this notebook, we are going to focus on the facility called `Generics` to solve the first problem. Let's see the problem in practice."
   ]
  },
  {
   "cell_type": "code",
   "execution_count": 1,
   "id": "045196fa-d54b-47d5-9c5f-604e6d5ca614",
   "metadata": {},
   "outputs": [
    {
     "data": {
      "text/plain": [
       "defined \u001b[32mtrait\u001b[39m \u001b[36mIntList\u001b[39m\n",
       "defined \u001b[32mobject\u001b[39m \u001b[36mIntEnd\u001b[39m\n",
       "defined \u001b[32mclass\u001b[39m \u001b[36mIntPair\u001b[39m"
      ]
     },
     "execution_count": 1,
     "metadata": {},
     "output_type": "execute_result"
    }
   ],
   "source": [
    "sealed trait IntList\n",
    "final case object IntEnd extends IntList\n",
    "final case class IntPair(head: Int, tail: IntList) extends IntList"
   ]
  },
  {
   "cell_type": "markdown",
   "id": "e2f25bc2-90ec-46e6-b61b-81db88c081d7",
   "metadata": {},
   "source": [
    "In order to hold elements of type `String` or any user-defined type, say `Programmer`, we obviously can't re-use the `IntList`. We may need to create another list structure to hold values for those specific types. You will end up with hundred linked list ADTs for hundred types."
   ]
  },
  {
   "cell_type": "code",
   "execution_count": 2,
   "id": "cbe920fd-329d-49cd-a9af-68112ed2ad80",
   "metadata": {},
   "outputs": [
    {
     "data": {
      "text/plain": [
       "defined \u001b[32mtrait\u001b[39m \u001b[36mStringList\u001b[39m\n",
       "defined \u001b[32mobject\u001b[39m \u001b[36mStringEnd\u001b[39m\n",
       "defined \u001b[32mclass\u001b[39m \u001b[36mStringPair\u001b[39m"
      ]
     },
     "execution_count": 2,
     "metadata": {},
     "output_type": "execute_result"
    }
   ],
   "source": [
    "sealed trait StringList\n",
    "final case object StringEnd extends StringList\n",
    "final case class StringPair(head: String, tail: StringList) extends StringList"
   ]
  },
  {
   "cell_type": "code",
   "execution_count": 3,
   "id": "333a9e05-363b-4dfb-8749-60550657b6ba",
   "metadata": {},
   "outputs": [
    {
     "data": {
      "text/plain": [
       "defined \u001b[32mclass\u001b[39m \u001b[36mProgrammer\u001b[39m\n",
       "defined \u001b[32mtrait\u001b[39m \u001b[36mProgrammerList\u001b[39m\n",
       "defined \u001b[32mobject\u001b[39m \u001b[36mProgrammerEnd\u001b[39m\n",
       "defined \u001b[32mclass\u001b[39m \u001b[36mProgrammerPair\u001b[39m"
      ]
     },
     "execution_count": 3,
     "metadata": {},
     "output_type": "execute_result"
    }
   ],
   "source": [
    "case class Programmer(name: String, lang: String)\n",
    "\n",
    "sealed trait ProgrammerList\n",
    "final case object ProgrammerEnd extends ProgrammerList\n",
    "final case class ProgrammerPair(head: Programmer, tail: ProgrammerList) extends ProgrammerList"
   ]
  },
  {
   "cell_type": "markdown",
   "id": "416d38a2-1ff9-4541-97e0-7dc50431093a",
   "metadata": {},
   "source": [
    "Because Scala has `Any` type, which can hold values of any type, one can define a linked list to hold \"any\" value but with that we lose the type-safety. Though we have the '.asInstanceOf' method to cast a value of type `Any` to any desired type but that too is not type-safe and could lead to various bugs at runtime. We need a proper solution so that we can re-use the ADT (or method too) without sacrificing the type-safety."
   ]
  },
  {
   "cell_type": "code",
   "execution_count": 4,
   "id": "6bf2b431-a41b-4b25-b5ef-28bd6a456aa0",
   "metadata": {},
   "outputs": [
    {
     "data": {
      "text/plain": [
       "defined \u001b[32mtrait\u001b[39m \u001b[36mAnyList\u001b[39m\n",
       "defined \u001b[32mobject\u001b[39m \u001b[36mAnyEnd\u001b[39m\n",
       "defined \u001b[32mclass\u001b[39m \u001b[36mAnyPair\u001b[39m\n",
       "\u001b[36manyList\u001b[39m: \u001b[32mAnyList\u001b[39m = \u001b[33mAnyPair\u001b[39m(head = \u001b[32m\"Hello\"\u001b[39m, tail = AnyEnd)\n",
       "\u001b[36manyHead\u001b[39m: \u001b[32mAny\u001b[39m = \u001b[32m\"Hello\"\u001b[39m\n",
       "\u001b[36mstringHead\u001b[39m: \u001b[32mString\u001b[39m = \u001b[32m\"Hello\"\u001b[39m"
      ]
     },
     "execution_count": 4,
     "metadata": {},
     "output_type": "execute_result"
    }
   ],
   "source": [
    "sealed trait AnyList\n",
    "final case object AnyEnd extends AnyList\n",
    "final case class AnyPair(head: Any, tail: AnyList) extends AnyList\n",
    "\n",
    "val anyList: AnyList = AnyPair(\"Hello\", AnyEnd)\n",
    "val anyHead = anyList match {\n",
    "    case AnyPair(head, _) => head\n",
    "}\n",
    "val stringHead = anyHead.asInstanceOf[String]"
   ]
  },
  {
   "cell_type": "markdown",
   "id": "e90a7d0f-5146-49c7-83db-7e4dc2ca177e",
   "metadata": {},
   "source": [
    "Notice the types of `anyHead` and `stringHead` values. When we extracted the \"head\" from `AnyList`, it was of the type `Any` and to use the value in any meaningful way we needed to cast the value to its appropriate type.\n",
    "\n",
    "---\n",
    "\n",
    "`Generics` allow us to declare types (ADT) and methods so that they can be used with objects of various types while providing compile-time type safety. Let's create simple data structure to hold single value of any type."
   ]
  },
  {
   "cell_type": "code",
   "execution_count": 5,
   "id": "7595e223-99e4-48db-a11a-6fb5c097a883",
   "metadata": {},
   "outputs": [
    {
     "data": {
      "text/plain": [
       "defined \u001b[32mclass\u001b[39m \u001b[36mBox\u001b[39m\n",
       "\u001b[36mintBox\u001b[39m: \u001b[32mBox\u001b[39m[\u001b[32mInt\u001b[39m] = \u001b[33mBox\u001b[39m(value = \u001b[32m1\u001b[39m)\n",
       "\u001b[36mstringBox\u001b[39m: \u001b[32mBox\u001b[39m[\u001b[32mString\u001b[39m] = \u001b[33mBox\u001b[39m(value = \u001b[32m\"1\"\u001b[39m)\n",
       "\u001b[36mint\u001b[39m: \u001b[32mInt\u001b[39m = \u001b[32m1\u001b[39m\n",
       "\u001b[36mstring\u001b[39m: \u001b[32mString\u001b[39m = \u001b[32m\"1\"\u001b[39m"
      ]
     },
     "execution_count": 5,
     "metadata": {},
     "output_type": "execute_result"
    }
   ],
   "source": [
    "final case class Box[A](value: A)\n",
    "\n",
    "val intBox = Box[Int](1)\n",
    "val stringBox = Box(\"1\") // type of value is inferred, expreesion is similar to Box[String](\"1\")\n",
    "\n",
    "val int = intBox.value\n",
    "val string = stringBox.value"
   ]
  },
  {
   "cell_type": "markdown",
   "id": "258dc58e-54d2-44e3-a1f7-2c40cb2c4c58",
   "metadata": {},
   "source": [
    "#### couple of things happened in above cell:\n",
    "\n",
    "1. we declared a generic `Box` type\n",
    "    - generic type (or method) takes `type parameter`, in this case `A`. \n",
    "    - in squre bracket after the name of type (or method).\n",
    "    - we can add any number of type parameter, and we can name it as we please.\n",
    "        - `final case class Box[SomeType](value: SomeType)`\n",
    "        - `final case class Pair[X, Y](a: X, b: Y)`\n",
    "2. we created instances of box with type `Int` and `String`.\n",
    "    - we can omit the type parameter while creating an instance of generic type, if it's inferrable by Scala.\n",
    "        - `Pair[Int, Programmer](1, Programmer(\"A\", \"B\"))`\n",
    "3. we queried the value inside the box.\n",
    "    - notice the type of value is preserved after querying the value\n",
    "    \n",
    "#### couple of things to keep in mind:\n",
    "\n",
    "1. read `Box[Int]` generic type as, a box of integer. \n",
    "2. a generic type without type parameter is _not_ a type. The `Box` alone is not a type.\n",
    "3. type parameter should be a type, which means `Box[Box]` is invalid becuase the second `Box` is not a type, as per (2).\n",
    "4. fill in the type is same as replacing a value of `x` in some math equation,\n",
    "    - for equation, `x^2 + 2x + 10` and where `x` is 2, expression will be `2^2 + 2*2 + 10`.\n",
    "    - similarly, for `Box[A](value: A)` and where `A` is `String`, type will be `Box(value: String)`.\n",
    "        - or, for `Pair[X, Y](a: X, b: Y)` where `X` is `Int` and `Y` is `Programmer`, type will be `Pair(a: Int, b: Programmer)`.\n",
    "5. the code will not compile if the expression is`Box[Int](\"a\")`,\n",
    "    - `Box[Int]` => `Box(value: Int)`\n",
    "    - because we are passing a `String` (\"a\") where expected type is `Int`."
   ]
  },
  {
   "cell_type": "code",
   "execution_count": 5,
   "id": "e8c023dc-f638-42c7-b881-266e17b713c2",
   "metadata": {},
   "outputs": [
    {
     "name": "stderr",
     "output_type": "stream",
     "text": [
      "cmd5.sc:1: type mismatch;\n",
      " found   : String(\"a\")\n",
      " required: Int\n",
      "val intBox = Box[Int](\"a\")\n",
      "                      ^Compilation Failed"
     ]
    },
    {
     "ename": "",
     "evalue": "",
     "output_type": "error",
     "traceback": [
      "Compilation Failed"
     ]
    }
   ],
   "source": [
    "val intBox = Box[Int](\"a\")"
   ]
  },
  {
   "cell_type": "markdown",
   "id": "cc566035-9845-46b4-82a3-e8c26d120f00",
   "metadata": {},
   "source": [
    "Now that have some familiarity with `Generics`, let's re-define our linked list structure using type parameter."
   ]
  },
  {
   "cell_type": "code",
   "execution_count": 6,
   "id": "e0ae3588-4b33-4666-8262-50b0dff57ed7",
   "metadata": {},
   "outputs": [
    {
     "data": {
      "text/plain": [
       "defined \u001b[32mtrait\u001b[39m \u001b[36mList\u001b[39m\n",
       "defined \u001b[32mclass\u001b[39m \u001b[36mEnd\u001b[39m\n",
       "defined \u001b[32mclass\u001b[39m \u001b[36mPair\u001b[39m"
      ]
     },
     "execution_count": 6,
     "metadata": {},
     "output_type": "execute_result"
    }
   ],
   "source": [
    "sealed trait List[A]\n",
    "final case class End[A]() extends List[A]\n",
    "final case class Pair[A](head: A, tail: List[A]) extends List[A]"
   ]
  },
  {
   "cell_type": "markdown",
   "id": "1ab0eb9c-bea8-46c1-9f94-ac762656d0f1",
   "metadata": {},
   "source": [
    "That's it. We now of a list of `A`, where `A` could be any typel. Notice that we have to change `End` from `object` to `class` becuase, <u>objects can't be type parameterized</u>, and we need to pass that `A` to the trait `List`. We can remove that `A` from `End` and change it back to `object` but we need to wait for yet another mechanism that Scala provides, Type Variance. Let's create a list of string, and let's see if we preserve the type of head on querying. Notice the type of `stringHead`, no need to use `.asInstanceOf`."
   ]
  },
  {
   "cell_type": "code",
   "execution_count": 7,
   "id": "56597b29-8bc6-4627-a3bc-c8c12a8315ff",
   "metadata": {},
   "outputs": [
    {
     "data": {
      "text/plain": [
       "\u001b[36mstringList\u001b[39m: \u001b[32mList\u001b[39m[\u001b[32mString\u001b[39m] = \u001b[33mPair\u001b[39m(head = \u001b[32m\"Hello\"\u001b[39m, tail = End())\n",
       "\u001b[36mstringHead\u001b[39m: \u001b[32mString\u001b[39m = \u001b[32m\"Hello\"\u001b[39m"
      ]
     },
     "execution_count": 7,
     "metadata": {},
     "output_type": "execute_result"
    }
   ],
   "source": [
    "val stringList: List[String] = Pair[String](\"Hello\", End[String]())\n",
    "val stringHead = stringList match {\n",
    "    case Pair(head, _) => head\n",
    "}"
   ]
  },
  {
   "cell_type": "markdown",
   "id": "a9a6ef3d-3316-440f-8fec-b9784a69b9ed",
   "metadata": {},
   "source": [
    "#### methods with type parameter\n",
    "---\n",
    "\n",
    "in similar way, we can use type parameter to accept objects of different type in a method."
   ]
  },
  {
   "cell_type": "code",
   "execution_count": 8,
   "id": "c01fce2d-3a22-4d4d-9316-1781aaad2880",
   "metadata": {},
   "outputs": [
    {
     "data": {
      "text/plain": [
       "defined \u001b[32mfunction\u001b[39m \u001b[36midentity\u001b[39m\n",
       "\u001b[36mres7_1\u001b[39m: \u001b[32mInt\u001b[39m = \u001b[32m1\u001b[39m\n",
       "\u001b[36mres7_2\u001b[39m: \u001b[32mString\u001b[39m = \u001b[32m\"string\"\u001b[39m"
      ]
     },
     "execution_count": 8,
     "metadata": {},
     "output_type": "execute_result"
    }
   ],
   "source": [
    "def identity[T](x: T): T = x\n",
    "\n",
    "identity(1)\n",
    "identity[String](\"string\")"
   ]
  },
  {
   "cell_type": "markdown",
   "id": "6efa9c19-0796-486d-bded-ceeba2e47078",
   "metadata": {},
   "source": [
    "The `identity` method accepts any type of object and return it as it is. Again, use the mental model of math equation.\n",
    "\n",
    "For, `def identity[T](x: T): T = x` and where `T` is `Int`, it becomes `def identity(x: Int): Int = x`.\n",
    "\n",
    "And it type safe too, `identity[String](1)` won't compile.\n",
    "\n",
    "---\n",
    "\n",
    "Let's try to define some operation on our generic list, say `product`."
   ]
  },
  {
   "cell_type": "code",
   "execution_count": 8,
   "id": "5297d2e2-37e8-4e4e-83be-400148686bdc",
   "metadata": {},
   "outputs": [
    {
     "name": "stderr",
     "output_type": "stream",
     "text": [
      "cmd8.sc:5: value * is not a member of type parameter A\n",
      "        case Pair(head, tail) => head * product(tail)\n",
      "                                      ^Compilation Failed"
     ]
    },
    {
     "ename": "",
     "evalue": "",
     "output_type": "error",
     "traceback": [
      "Compilation Failed"
     ]
    }
   ],
   "source": [
    "object ListOps {\n",
    "    \n",
    "    def product[A](list: List[A]): Int = list match {\n",
    "        case End() => 0\n",
    "        case Pair(head, tail) => head * product(tail)\n",
    "    }\n",
    "    \n",
    "}"
   ]
  },
  {
   "cell_type": "markdown",
   "id": "f86d2829-3f57-4c1c-b63a-1176c73359fc",
   "metadata": {},
   "source": [
    "Woh, what just happened? The compiler is complaining that \"value * is not a member of type parameter A\". Okay, let's break it down. In Scala, each method (operations, such as `*`) belongs to a type. Here, `A` is placeholder for a type that user will provide while calling the `product` method, which means, at the time of declaration, the compiler (or we) don't know what the actual type `A` is. So, obviously compiler won't allow us to perform `*` operation on the unknown type `A`.\n",
    "\n",
    "This is actually a good thing. It restricts the number of implementaions the `product` method can have, or any generic method for that matter. We can provide the information to compiler about what types are allowed to pass while calling the method, but that topic is for another notebook.\n",
    "\n",
    "In short, for now, we won't be allowed to implement any operation in which we need to deal with a value of unknown type. But there are still some operations in which we don't need to use list's elements or need to know the type of its elements. Such operations are `length`, `concat`, etc... to calculate the length of list we don't need to know the type of element or we don't need to use element to perform any operation. Let's implement the `length` operation."
   ]
  },
  {
   "cell_type": "code",
   "execution_count": 9,
   "id": "f5f3bbd7-88cb-4c07-b126-36033b02aa8f",
   "metadata": {},
   "outputs": [
    {
     "data": {
      "text/plain": [
       "defined \u001b[32mobject\u001b[39m \u001b[36mListOps\u001b[39m"
      ]
     },
     "execution_count": 9,
     "metadata": {},
     "output_type": "execute_result"
    }
   ],
   "source": [
    "object ListOps {\n",
    "    \n",
    "    def length[A](list: List[A]): Int = list match {\n",
    "        case End() => 0\n",
    "        case Pair(_, tail) => 1 + length(tail)\n",
    "    }\n",
    "    \n",
    "}"
   ]
  },
  {
   "cell_type": "code",
   "execution_count": 10,
   "id": "81bf6913-ee70-45a7-8ba5-2b03cbc65371",
   "metadata": {},
   "outputs": [
    {
     "data": {
      "text/plain": [
       "\u001b[36mlist\u001b[39m: \u001b[32mList\u001b[39m[\u001b[32mString\u001b[39m] = \u001b[33mPair\u001b[39m(\n",
       "  head = \u001b[32m\"A\"\u001b[39m,\n",
       "  tail = \u001b[33mPair\u001b[39m(head = \u001b[32m\"B\"\u001b[39m, tail = \u001b[33mPair\u001b[39m(head = \u001b[32m\"C\"\u001b[39m, tail = End()))\n",
       ")\n",
       "\u001b[36mres9_1\u001b[39m: \u001b[32mInt\u001b[39m = \u001b[32m3\u001b[39m"
      ]
     },
     "execution_count": 10,
     "metadata": {},
     "output_type": "execute_result"
    }
   ],
   "source": [
    "val list: List[String] = Pair(\"A\", Pair(\"B\", Pair(\"C\", End[String]())))\n",
    "ListOps.length(list) // 3"
   ]
  },
  {
   "cell_type": "markdown",
   "id": "730b4275-f645-4e63-ba25-af6eb74d0595",
   "metadata": {},
   "source": [
    "As you can see, we defined a list [\"A\", \"B\", \"C\"] and `length` computed the answer `3`, as expected. No need to know what type of values the list holds. \n",
    "\n",
    "Notice the implementation of `length` method, in `Pair` case, we perform `1 + length(tail)` computation. The reason compiler allows us to call `+` is,\n",
    "1. it knows that `1` has type `Int`, becuase of literal expression.\n",
    "2. it also knows that the type of `length(tail)` is `Int`, becuase `length` returns a value of type `Int`."
   ]
  },
  {
   "cell_type": "markdown",
   "id": "34d7c3d4-6ab5-4f52-bd99-111172b5dff3",
   "metadata": {},
   "source": [
    "### conclusion\n",
    "---\n",
    "\n",
    "In this notebook, we went through limited features of generic. We defined data structure (and method) using type parameter(s), been able to write operations where we don't need to use element values. We still need to review `type variance` and `type constraint` to fully leverage the mechanism of `Generics`.\n",
    "\n",
    "### Exercise\n",
    "---\n",
    "\n",
    "1. Re-define the `StringTree` (see `06-recursive-data` notebook) as `Tree` and use generics to create an instance of tree with any type of objects.\n",
    "\n",
    "2. Define following method, `def divide[A, B](a: A, b: B): Int = a / b`. Guess the answer of `divide(4, 2)` expression before running it. Explain the evaluation, and errors (if any). \n",
    "\n",
    "3. Declare a data structure from following statement. [hint: you may need to use two type parameters]\n",
    "    - a computation can hold a result of any type or it could fail and hold an error of any type\n",
    "    \n",
    "4. See the following snippet,\n",
    "   ```\n",
    "   final case class Single[V](value: V)\n",
    "   final case class Tuple[A, B](a: A, b: Single[B])\n",
    "   final case class Triple[SomeTypeA, T, HELLO](a: SomeTypeA, b: Single[T], c: Tuple[T, HELLO])\n",
    "   ```\n",
    "   1. expand the type `Triple[Int, Boolean, String]`, what will be the concrete form?\n",
    "   2. if we initialize an object with `val t = Triple(1, Single(1.7), Tuple(2.1, Single(\"some string\")))`, \n",
    "       1. what will be the types of `SomeTypeA`, `T` and `HELLO` type parameter.\n",
    "       2. what will be the value of `t.c.b.a` and its type.\n",
    "   3. why `Triple(1, Single(1.7), Tuple(2.1f, Single(\"some string\")))` throws a compile time error.\n",
    "\n",
    "5. Implement `concat` method for `List[A]` type. It should join the second list at the end of first list.\n",
    "   ```\n",
    "   val list1: List[Int] = Pair(1, Pair(2, Pair(3, End[Int]())))\n",
    "   val list2: List[Int] = Pair(4, Pair(5, Pair(6, End[Int]())))\n",
    "   ```\n",
    "   if inputs are `list1` and `list2`, then result of `concat(list1, list2)` should be `Pair(1, Pair(2, Pair(3, Pair(4, Pair(5, Pair(6, End[Int]()))))))`."
   ]
  }
 ],
 "metadata": {
  "kernelspec": {
   "display_name": "Scala",
   "language": "scala",
   "name": "scala"
  },
  "language_info": {
   "codemirror_mode": "text/x-scala",
   "file_extension": ".sc",
   "mimetype": "text/x-scala",
   "name": "scala",
   "nbconvert_exporter": "script",
   "version": "2.13.4"
  }
 },
 "nbformat": 4,
 "nbformat_minor": 5
}
