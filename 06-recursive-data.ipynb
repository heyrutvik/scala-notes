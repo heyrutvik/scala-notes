{
 "cells": [
  {
   "cell_type": "markdown",
   "id": "92a1f7f6-51c5-459d-b435-c61ad13ef6b8",
   "metadata": {},
   "source": [
    "# Recursive data and code\n",
    "---\n",
    "\n",
    "> The power of recursion evidently lies in the possibility of defining an infinite set of objects by a finite statement. In the same manner, an infinite number of computations can be described by a finite recursive program, ....\n",
    ">     — Niklaus Wirth, Algorithms + Data Structures = Programs\n",
    "\n",
    "Read the quote _three_ times. And keep it in the back of your mind while reading this notebook.\n",
    "\n",
    "A recursive definition (data or code) has _one or more base cases_, meaning input(s) for which a result is produced trivially (without recurring), and _one or more recursive cases_, meaning input(s) for which the program recurs (calls itself).\n",
    "\n",
    "### Recursive data\n",
    "---\n",
    "Scala allows us to define potentially infinite data (but finite at the run-time) using recursion. As described, we need a base case and recursive case to define one. The common data structure in Function Programming, and a good example as a recursive data structure is, the linked list. \n",
    "\n",
    "A linked list is a collection of elements, where each element is linked to the next, and at the end holds a sentinel value to indicate the end of the list. In other words, a _list_ is a _pair_ or an _end_, where pair has an element and list, and end is an indicator of end of the list. As you have noticed, the last statement is described in the terms of Algebraic Data Type, we can represent it in Scala as follows."
   ]
  },
  {
   "cell_type": "code",
   "execution_count": 1,
   "id": "1a7f73f9-78e1-4bd0-9e8e-98a272768f87",
   "metadata": {},
   "outputs": [
    {
     "data": {
      "text/plain": [
       "defined \u001b[32mtrait\u001b[39m \u001b[36mIntList\u001b[39m\n",
       "defined \u001b[32mclass\u001b[39m \u001b[36mPair\u001b[39m\n",
       "defined \u001b[32mobject\u001b[39m \u001b[36mEnd\u001b[39m"
      ]
     },
     "execution_count": 1,
     "metadata": {},
     "output_type": "execute_result"
    }
   ],
   "source": [
    "sealed trait IntList\n",
    "final case class Pair(element: Int, rest: IntList) extends IntList\n",
    "final case object End extends IntList"
   ]
  },
  {
   "cell_type": "markdown",
   "id": "ceed4746-de3b-42e5-ac4a-ef3c96bf6e0e",
   "metadata": {},
   "source": [
    "Let's create a list of elements from 1 to 3."
   ]
  },
  {
   "cell_type": "code",
   "execution_count": 2,
   "id": "91633ad9-9ef4-403c-943a-29dfbf44ac6d",
   "metadata": {},
   "outputs": [
    {
     "data": {
      "text/plain": [
       "\u001b[36mend\u001b[39m: \u001b[32mIntList\u001b[39m = End\n",
       "\u001b[36mthree_pair\u001b[39m: \u001b[32mIntList\u001b[39m = \u001b[33mPair\u001b[39m(element = \u001b[32m3\u001b[39m, rest = End)\n",
       "\u001b[36mtwo_pair\u001b[39m: \u001b[32mIntList\u001b[39m = \u001b[33mPair\u001b[39m(element = \u001b[32m2\u001b[39m, rest = \u001b[33mPair\u001b[39m(element = \u001b[32m3\u001b[39m, rest = End))\n",
       "\u001b[36mlist\u001b[39m: \u001b[32mIntList\u001b[39m = \u001b[33mPair\u001b[39m(\n",
       "  element = \u001b[32m1\u001b[39m,\n",
       "  rest = \u001b[33mPair\u001b[39m(element = \u001b[32m2\u001b[39m, rest = \u001b[33mPair\u001b[39m(element = \u001b[32m3\u001b[39m, rest = End))\n",
       ")"
      ]
     },
     "execution_count": 2,
     "metadata": {},
     "output_type": "execute_result"
    }
   ],
   "source": [
    "// [1, [2, [3, End]]]\n",
    "\n",
    "val end: IntList = End\n",
    "val three_pair: IntList = Pair(3, end)\n",
    "val two_pair: IntList = Pair(2, three_pair)\n",
    "val list: IntList = Pair(1, two_pair)"
   ]
  },
  {
   "cell_type": "code",
   "execution_count": 3,
   "id": "a06b1dfe-26fa-44fc-80d3-fffa25aaffa8",
   "metadata": {},
   "outputs": [
    {
     "data": {
      "text/plain": [
       "\u001b[36mlist\u001b[39m: \u001b[32mIntList\u001b[39m = \u001b[33mPair\u001b[39m(\n",
       "  element = \u001b[32m1\u001b[39m,\n",
       "  rest = \u001b[33mPair\u001b[39m(element = \u001b[32m2\u001b[39m, rest = \u001b[33mPair\u001b[39m(element = \u001b[32m3\u001b[39m, rest = End))\n",
       ")"
      ]
     },
     "execution_count": 3,
     "metadata": {},
     "output_type": "execute_result"
    }
   ],
   "source": [
    "// Or\n",
    "\n",
    "val list: IntList = Pair(1, Pair(2, Pair(3, End)))"
   ]
  },
  {
   "cell_type": "markdown",
   "id": "fdab3dbe-2502-49e3-9b13-5f4209d7a2a2",
   "metadata": {},
   "source": [
    "Let's look at the importance of base case,\n",
    "\n",
    "In `IntList`, the `End` is the base case and that the reason we can create an instance of the linked list. What would happen if we don't add base case?\n",
    "Let's define `Broken` without any base case."
   ]
  },
  {
   "cell_type": "code",
   "execution_count": 4,
   "id": "fcda65e3-ee57-46fb-bf77-f6180785a3cb",
   "metadata": {},
   "outputs": [
    {
     "data": {
      "text/plain": [
       "defined \u001b[32mclass\u001b[39m \u001b[36mBroken\u001b[39m"
      ]
     },
     "execution_count": 4,
     "metadata": {},
     "output_type": "execute_result"
    }
   ],
   "source": [
    "final case class Broken(broken: Broken)"
   ]
  },
  {
   "cell_type": "markdown",
   "id": "d80b61a1-0c28-4e8f-a7ef-0b06089d5189",
   "metadata": {},
   "source": [
    "The Scala compiler would allow us to define such \"broken\" recursive structure, but _we won't be able to create an instance_ of it. The reason is, to create an instance of `Broken` we need an instance of `Broken`, which obviously we don't have because we are trying to create one in the first place. 😅\n",
    "\n",
    "By following the same reasoning, if we don't add `End` (the base case) in linked list data structure then we won't be able to create an instance of linked list.\n",
    "\n",
    "Let's re-read the first part of the quote,\n",
    "\n",
    "> The power of recursion evidently lies in the possibility of defining an infinite set of objects by a finite statement.\n",
    "\n",
    "Now it would be apparent that using _finte set of declarations_ (`End` and `Pair`), we are able to create an instance of list with \"theoretically\" _infinite elements_ (objects).\n",
    "\n",
    "Let's see one more example before jumping onto implementing operations on these recursive data structures. The second common data structure is called Tree, and having data represented as a tree makes some operation easy on them. A _tree_ is a _node_ or _leaf_. A node has a left branch and right branch, which are the tree itself, and a left holds a value. Let's define it using ADT,"
   ]
  },
  {
   "cell_type": "code",
   "execution_count": 5,
   "id": "9ec70dbd-a192-4aaa-aedc-9c3f7552b96b",
   "metadata": {},
   "outputs": [
    {
     "data": {
      "text/plain": [
       "defined \u001b[32mtrait\u001b[39m \u001b[36mStringTree\u001b[39m\n",
       "defined \u001b[32mclass\u001b[39m \u001b[36mNode\u001b[39m\n",
       "defined \u001b[32mclass\u001b[39m \u001b[36mLeaf\u001b[39m"
      ]
     },
     "execution_count": 5,
     "metadata": {},
     "output_type": "execute_result"
    }
   ],
   "source": [
    "sealed trait StringTree\n",
    "final case class Node(left: StringTree, right: StringTree) extends StringTree\n",
    "final case class Leaf(value: String) extends StringTree"
   ]
  },
  {
   "cell_type": "markdown",
   "id": "2ca08374-8398-4a9f-b93c-1d7925d35743",
   "metadata": {},
   "source": [
    "### Recursive code\n",
    "---\n",
    "\n",
    "The most natural way to define an operation on recursive data structure is using recursion. We will apply the same principle of base case(s) and recursive case(s) to make sure that recursive code doesn't \"end\" somewhere. Let's see a common example of a recursive method, a factorial operation."
   ]
  },
  {
   "cell_type": "code",
   "execution_count": 6,
   "id": "f6a7a2c2-c522-4a7d-8405-1370d37a248c",
   "metadata": {},
   "outputs": [
    {
     "data": {
      "text/plain": [
       "defined \u001b[32mfunction\u001b[39m \u001b[36mfactorial\u001b[39m\n",
       "\u001b[36mresult\u001b[39m: \u001b[32mInt\u001b[39m = \u001b[32m6\u001b[39m"
      ]
     },
     "execution_count": 6,
     "metadata": {},
     "output_type": "execute_result"
    }
   ],
   "source": [
    "// 3! = 3 x 2 x 1 = 6\n",
    "\n",
    "def factorial(n: Int): Int = \n",
    "    if (n == 0) 1               // base case\n",
    "    else n * factorial(n - 1)   // recursive case\n",
    "\n",
    "val result = factorial(3)       // 6"
   ]
  },
  {
   "cell_type": "markdown",
   "id": "a774006e-707e-4632-bcff-d7fdfe6c6935",
   "metadata": {},
   "source": [
    "If we don't add the base case in the above method, the method will don't know when to \"stop\" the computation and will keep calling itself subtracting one from the input `n`. In a recursive data structure without a base case, we won't be able to create an instance of it. Same way, in recursive code, we won't get \"returned\" from a recursive method where the base case is not defined. And because the stack memory is limited, Scala will raise the `StackOverflowError` exception."
   ]
  },
  {
   "cell_type": "code",
   "execution_count": 6,
   "id": "365c2a14-4ae7-458b-919f-79f0e8edb42d",
   "metadata": {},
   "outputs": [],
   "source": [
    "/**\n",
    "def brokenFactorial(n: Int): Int =\n",
    "    n * brokenFactorial(n - 1)\n",
    "\n",
    "brokenFactorial(3)\n",
    "\n",
    "java.lang.StackOverflowError\n",
    "  ammonite.$sess.cmd11$Helper.brokenFactorial(cmd11.sc:8)\n",
    "  ammonite.$sess.cmd11$Helper.brokenFactorial(cmd11.sc:8)\n",
    "*/"
   ]
  },
  {
   "cell_type": "markdown",
   "id": "bbc8f67d-33ea-4764-920f-7eeaf069c19d",
   "metadata": {},
   "source": [
    "As we discussed in the previous notebook, we can use `polymorephism` or `pattern matching` to write an operation ADT. Let's stick to the pattern matching, as it's more used in functional programming. Let's write a couple of common operations on a linked list using recursion.\n",
    "\n",
    "1. sum, to get back the summation of all the elements in the list\n",
    "    - to sum a list of elements, you need to add a first element with the sum of rest of the list.\n",
    "2. length, to get the length of list\n",
    "    - to compute the length, add one to the length of the rest of the list.\n",
    "    \n",
    "As you can see, the problem (sum or length) is expressed by dividing the list (first, rest) and recursively solving the sub-problem (rest). You can see the \"recursion\" in the solution statement itself."
   ]
  },
  {
   "cell_type": "code",
   "execution_count": 7,
   "id": "f4f44a18-0ac1-4227-b6ad-1b0f9591cbca",
   "metadata": {},
   "outputs": [
    {
     "data": {
      "text/plain": [
       "defined \u001b[32mobject\u001b[39m \u001b[36mIntListRecur\u001b[39m\n",
       "\u001b[36msum_list\u001b[39m: \u001b[32mInt\u001b[39m = \u001b[32m6\u001b[39m\n",
       "\u001b[36mlength_list\u001b[39m: \u001b[32mInt\u001b[39m = \u001b[32m3\u001b[39m"
      ]
     },
     "execution_count": 7,
     "metadata": {},
     "output_type": "execute_result"
    }
   ],
   "source": [
    "object IntListRecur {\n",
    "    \n",
    "    def sum(list: IntList): Int = list match {\n",
    "        case End => 0\n",
    "        case Pair(first, rest) => first + sum(rest)\n",
    "    }\n",
    "    \n",
    "    def length(list: IntList): Int = list match {\n",
    "        case End => 0\n",
    "        case Pair(_, rest) => 1 + length(rest)\n",
    "    }\n",
    "    \n",
    "}\n",
    "\n",
    "// we using `list` defined above, [1,2,3]\n",
    "val sum_list = IntListRecur.sum(list)          // 6\n",
    "val length_list = IntListRecur.length(list)    // 3"
   ]
  },
  {
   "cell_type": "markdown",
   "id": "5b870d28-fefc-40e2-9249-5ee6513514a0",
   "metadata": {},
   "source": [
    "Now, re-read the second part of the quote,\n",
    "\n",
    "> In the same manner, an infinite number of computations can be described by a finite recursive program\n",
    "\n",
    "The two lines of code (finite program) can perform infinite steps of computation, `plus` for sum and `add 1` for length. But this ease of expressing computation comes with a cost, because of the finiteness of memory. If you create a list of millions of millions of elements, and call sum recursively, it will end up throwing the `StackOverflowError` exception. "
   ]
  },
  {
   "cell_type": "code",
   "execution_count": 8,
   "id": "c6795551-6f83-4cbd-872c-108fa55e9a4b",
   "metadata": {},
   "outputs": [
    {
     "data": {
      "text/plain": [
       "defined \u001b[32mobject\u001b[39m \u001b[36mIntList\u001b[39m\n",
       "\u001b[36mres7_1\u001b[39m: \u001b[32mIntList\u001b[39m = \u001b[33mPair\u001b[39m(\n",
       "  element = \u001b[32m1\u001b[39m,\n",
       "  rest = \u001b[33mPair\u001b[39m(element = \u001b[32m2\u001b[39m, rest = \u001b[33mPair\u001b[39m(element = \u001b[32m3\u001b[39m, rest = End))\n",
       ")"
      ]
     },
     "execution_count": 8,
     "metadata": {},
     "output_type": "execute_result"
    }
   ],
   "source": [
    "object IntList {\n",
    "    \n",
    "    // this is helper method to create IntList from variable legnth arguments\n",
    "    // and to illustrate that recursive methods on large input may fail with\n",
    "    // `StackOverflowError` exception.\n",
    "\n",
    "    // `Int*` means variable length argument\n",
    "    // one can pass any number of integer arguments to the method\n",
    "    // inside the method, `is` is Seq[Int], that's why we are converting it to List using `.toList` to pattern match on it\n",
    "    // `::` is like our `Pair` for Scala's List data structure\n",
    "    // `_*` expands list to pass into variable length argument\n",
    "    def apply(is: Int*): IntList = is.toList match {\n",
    "        case Nil => End\n",
    "        case head :: tail => Pair(head, apply(tail: _*))\n",
    "    }\n",
    "    \n",
    "}\n",
    "\n",
    "IntList(1, 2, 3) // same as previously defined `list` value above.\n",
    "\n",
    "/**\n",
    "// `1 to 10000` creates range of elements from 1 to 10000.\n",
    "\n",
    "IntList(1 to 10000: _*)\n",
    "\n",
    "java.lang.StackOverflowError\n",
    "  ammonite.$sess.cmd0$.instance(cmd0.sc:7)\n",
    "  ammonite.$sess.cmd7$Helper$IntList$.apply(cmd7.sc:5)\n",
    "*/"
   ]
  },
  {
   "cell_type": "markdown",
   "id": "915bcb6f-cab3-41a0-9213-3949db1f60a4",
   "metadata": {},
   "source": [
    "### tail recursive\n",
    "---\n",
    "\n",
    "To overcome such situation where we are making too much recursive calls, we can rewrite our recursive method in such a way that Scala compiler can compile it to iterative-style, meaning rather than allocating new stack for each method call, it uses same stack to perform the recursive operation. Due to limitations of JVM, Scala only supports Tail Call Optimization (TCO) on direct recursion.\n",
    "\n",
    "But there is this condition that should be matched. A recursive call should be the final call of the method, meaning it should not perform any other operation than calling itself. For example, in above `sum` and `length` methods, respected recursive calls perform `first +` and `1 +`. It means, they don't satisfy the condition we need to convert a recursive call to an iterative one.\n",
    "\n",
    "To remove extra operation on recursive calls of those methods, we can add an `accumulator` parameter to hold \"sum\" or \"length\" of elements we have already visited. Let's implement them: "
   ]
  },
  {
   "cell_type": "code",
   "execution_count": 9,
   "id": "7dcb48c1-599b-49f4-b4d4-85a70c615704",
   "metadata": {},
   "outputs": [
    {
     "data": {
      "text/plain": [
       "defined \u001b[32mobject\u001b[39m \u001b[36mIntListIter\u001b[39m\n",
       "\u001b[36mres8_1\u001b[39m: \u001b[32mInt\u001b[39m = \u001b[32m6\u001b[39m\n",
       "\u001b[36mres8_2\u001b[39m: \u001b[32mInt\u001b[39m = \u001b[32m3\u001b[39m"
      ]
     },
     "execution_count": 9,
     "metadata": {},
     "output_type": "execute_result"
    }
   ],
   "source": [
    "object IntListIter {\n",
    "    \n",
    "    // we are defining method within method so consumer don't need to provide an accumulator herself.\n",
    "    \n",
    "    def sum(list: IntList): Int = {\n",
    "        def loop(list: IntList, acc: Int): Int = list match {\n",
    "            case End => acc\n",
    "            case Pair(first, rest) => loop(rest, first + acc)\n",
    "        }\n",
    "        loop(list, 0)\n",
    "    }\n",
    "    \n",
    "    def length(list: IntList): Int = {\n",
    "        def loop(list: IntList, acc: Int): Int = list match {\n",
    "            case End => 0\n",
    "            case Pair(_, rest) => 1 + length(rest)\n",
    "        }\n",
    "        loop(list, 0)\n",
    "    }\n",
    "    \n",
    "}\n",
    "\n",
    "IntListIter.sum(list)\n",
    "IntListIter.length(list)"
   ]
  },
  {
   "cell_type": "code",
   "execution_count": 10,
   "id": "e1aeda69-4f6f-4860-bcf7-2b46d3300550",
   "metadata": {},
   "outputs": [
    {
     "data": {
      "text/plain": [
       "defined \u001b[32mobject\u001b[39m \u001b[36mIntList\u001b[39m\n",
       "\u001b[36mres9_1\u001b[39m: \u001b[32mIntList\u001b[39m = \u001b[33mPair\u001b[39m(\n",
       "  element = \u001b[32m1\u001b[39m,\n",
       "  rest = \u001b[33mPair\u001b[39m(\n",
       "    element = \u001b[32m2\u001b[39m,\n",
       "    rest = \u001b[33mPair\u001b[39m(\n",
       "      element = \u001b[32m3\u001b[39m,\n",
       "      rest = \u001b[33mPair\u001b[39m(\n",
       "        element = \u001b[32m4\u001b[39m,\n",
       "        rest = \u001b[33mPair\u001b[39m(\n",
       "          element = \u001b[32m5\u001b[39m,\n",
       "          rest = \u001b[33mPair\u001b[39m(\n",
       "            element = \u001b[32m6\u001b[39m,\n",
       "            rest = \u001b[33mPair\u001b[39m(\n",
       "              element = \u001b[32m7\u001b[39m,\n",
       "              rest = \u001b[33mPair\u001b[39m(\n",
       "                element = \u001b[32m8\u001b[39m,\n",
       "                rest = \u001b[33mPair\u001b[39m(\n",
       "                  element = \u001b[32m9\u001b[39m,\n",
       "                  rest = \u001b[33mPair\u001b[39m(\n",
       "                    element = \u001b[32m10\u001b[39m,\n",
       "                    rest = \u001b[33mPair\u001b[39m(\n",
       "                      element = \u001b[32m11\u001b[39m,\n",
       "                      rest = \u001b[33mPair\u001b[39m(\n",
       "                        element = \u001b[32m12\u001b[39m,\n",
       "                        rest = \u001b[33mPair\u001b[39m(\n",
       "                          element = \u001b[32m13\u001b[39m,\n",
       "                          rest = \u001b[33mPair\u001b[39m(\n",
       "                            element = \u001b[32m14\u001b[39m,\n",
       "                            rest = \u001b[33mPair\u001b[39m(\n",
       "                              element = \u001b[32m15\u001b[39m,\n",
       "                              rest = \u001b[33mPair\u001b[39m(\n",
       "                                element = \u001b[32m16\u001b[39m,\n",
       "                                rest = \u001b[33mPair\u001b[39m(\n",
       "                                  element = \u001b[32m17\u001b[39m,\n",
       "                                  rest = \u001b[33mPair\u001b[39m(\n",
       "                                    element = \u001b[32m18\u001b[39m,\n",
       "                                    rest = \u001b[33mPair\u001b[39m(\n",
       "                                      element = \u001b[32m19\u001b[39m,\n",
       "                                      rest = \u001b[33mPair\u001b[39m(\n",
       "..."
      ]
     },
     "execution_count": 10,
     "metadata": {},
     "output_type": "execute_result"
    }
   ],
   "source": [
    "object IntList {\n",
    "    \n",
    "    // the code is just to illustrate that tail recursive method would not throw `StackOverflowError` exception.\n",
    "    // try to understand what's going on..\n",
    "    \n",
    "    def apply(is: Int*): IntList = {\n",
    "        def loop(ls: List[Int], acc: IntList): IntList = ls match {\n",
    "            case Nil => acc\n",
    "            case head :: tail => loop(tail, Pair(head, acc))\n",
    "        }\n",
    "        loop(is.toList.reverse, End)\n",
    "    }\n",
    "    \n",
    "}\n",
    "\n",
    "IntList(1 to 10000: _*) // would not throw `StackOverflowError` exception."
   ]
  },
  {
   "cell_type": "markdown",
   "id": "b3269a15-0c9e-4ef3-bc87-2fc0845442bd",
   "metadata": {},
   "source": [
    "Lastly, there is an annotation to let the compiler know that we expect a method to compile in iterative-style. If it's not possible then the compiler will raise an error."
   ]
  },
  {
   "cell_type": "code",
   "execution_count": 11,
   "id": "69350bcc-4964-4c6a-a41a-2136d1867019",
   "metadata": {},
   "outputs": [
    {
     "data": {
      "text/plain": [
       "\u001b[32mimport \u001b[39m\u001b[36mscala.annotation.tailrec\n",
       "\n",
       "\u001b[39m\n",
       "defined \u001b[32mfunction\u001b[39m \u001b[36msumIter\u001b[39m"
      ]
     },
     "execution_count": 11,
     "metadata": {},
     "output_type": "execute_result"
    }
   ],
   "source": [
    "import scala.annotation.tailrec\n",
    "\n",
    "def sumIter(list: IntList): Int = {\n",
    "    @tailrec\n",
    "    def loop(list: IntList, acc: Int): Int = list match {\n",
    "        case End => acc\n",
    "        case Pair(first, rest) => loop(rest, first + acc)\n",
    "    }\n",
    "    loop(list, 0)\n",
    "}"
   ]
  },
  {
   "cell_type": "markdown",
   "id": "f6af7fdf-532d-4bef-93a4-fc488d68175b",
   "metadata": {},
   "source": [
    "As you can see, we added `@tailrec` annotation above the `loop` method and Scala does compile the code which means it will convert this recursive method into iterative-style. But let's try to add the same annotation on a non-tail-recursive method, as we defined earlier. It will not compile the code and explain that \"a recursive call not in tail position\"."
   ]
  },
  {
   "cell_type": "code",
   "execution_count": 11,
   "id": "b0d4f64b-f553-4183-8ee4-fc749660b42f",
   "metadata": {},
   "outputs": [
    {
     "name": "stderr",
     "output_type": "stream",
     "text": [
      "cmd11.sc:2: could not optimize @tailrec annotated method sum: it contains a recursive call not in tail position\n",
      "def sum(list: IntList): Int = list match {\n",
      "                              ^Compilation Failed"
     ]
    },
    {
     "ename": "",
     "evalue": "",
     "output_type": "error",
     "traceback": [
      "Compilation Failed"
     ]
    }
   ],
   "source": [
    "@tailrec\n",
    "def sum(list: IntList): Int = list match {\n",
    "    case End => 0\n",
    "    case Pair(first, rest) => first + sum(rest)\n",
    "}"
   ]
  },
  {
   "cell_type": "markdown",
   "id": "356c301f-35dd-4750-8080-a00e453946bd",
   "metadata": {},
   "source": [
    "### Exercise\n",
    "---\n",
    "\n",
    "1. We created the `StringTree` ADT to represent tree data structure. Add one more case to represent a part where the node does not have a leaf, let's name it `Nil`.\n",
    "\n",
    "2. Write a method `size` that counts the number of nodes (leaves and branches) in a tree.\n",
    "\n",
    "3. Write a method to concatenate two IntList, name it `concat`.\n",
    "\n",
    "4. Write a method to multiply elements in IntList, name it `product`. first using plain recursion and another using tail-recursion. Don't forget to add `@tailrec` annotation on the later one.\n",
    "\n",
    "5. Write an ADT for mathematical expression containing addition and subtraction operation. Also, write `eval` method to evaluate a given expression. [hint: ADT will have three cases, 2 for operations and 1 for number]"
   ]
  }
 ],
 "metadata": {
  "kernelspec": {
   "display_name": "Scala",
   "language": "scala",
   "name": "scala"
  },
  "language_info": {
   "codemirror_mode": "text/x-scala",
   "file_extension": ".sc",
   "mimetype": "text/x-scala",
   "name": "scala",
   "nbconvert_exporter": "script",
   "version": "2.13.4"
  }
 },
 "nbformat": 4,
 "nbformat_minor": 5
}
