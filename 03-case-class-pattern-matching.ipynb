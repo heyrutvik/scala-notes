{
 "cells": [
  {
   "cell_type": "markdown",
   "id": "57017cb1-3d99-4fd1-aac2-c7813544e123",
   "metadata": {},
   "source": [
    "# Case class and Pattern matching\n",
    "---\n",
    "\n",
    "- an overview of companion object\n",
    "- case class and pattern matching are twin constructs, and complement each other.\n",
    "    - case classes come with a sensible default implementation of some properties which makes it an only candidate to define a non-encapsulated light-weight data constructors\n",
    "    - pattern matching is similiar to switch statements but with more power, such as an inspection of a shape of given object etc..\n",
    "\n",
    "### companion object\n",
    "---\n",
    "\n",
    "- an object is `companion object` when the name of a singleton object is the same as a class defined in the same source file."
   ]
  },
  {
   "cell_type": "code",
   "execution_count": 1,
   "id": "ec62c096-692b-4037-a08e-b813b8f514a9",
   "metadata": {},
   "outputs": [
    {
     "data": {
      "text/plain": [
       "\u001b[32mimport \u001b[39m\u001b[36mscala.util.Random\n",
       "\n",
       "\u001b[39m\n",
       "defined \u001b[32mclass\u001b[39m \u001b[36mPerson\u001b[39m\n",
       "defined \u001b[32mobject\u001b[39m \u001b[36mPerson\u001b[39m"
      ]
     },
     "execution_count": 1,
     "metadata": {},
     "output_type": "execute_result"
    }
   ],
   "source": [
    "// Person.scala\n",
    "\n",
    "import scala.util.Random\n",
    "\n",
    "class Person(val firstName: String, val lastName: String, val age: Int) {\n",
    "    def name: String = firstName + \" \" + lastName\n",
    "}\n",
    "\n",
    "object Person {\n",
    "    def mkId: String = Random.alphanumeric.take(20).mkString\n",
    "}"
   ]
  },
  {
   "cell_type": "markdown",
   "id": "195b28f2-6009-4b6e-802f-495e6ae1b31a",
   "metadata": {},
   "source": [
    "    - Scala has two namespaces, 1) for types and 2) for values, and depending on the position in expression, it determines whether we are referring to a class (type) or a companion object."
   ]
  },
  {
   "cell_type": "code",
   "execution_count": 2,
   "id": "1481651a-6b00-41ef-96c6-ac3b1edfcac1",
   "metadata": {},
   "outputs": [
    {
     "data": {
      "text/plain": [
       "\u001b[36mp\u001b[39m: \u001b[32mPerson\u001b[39m = ammonite.$sess.cmd0$Helper$Person@5c3591b2\n",
       "\u001b[36mres1_1\u001b[39m: \u001b[32mString\u001b[39m = \u001b[32m\"3ct5igstJL3ll01Q18iz\"\u001b[39m"
      ]
     },
     "execution_count": 2,
     "metadata": {},
     "output_type": "execute_result"
    }
   ],
   "source": [
    "// it treats as a class on \"type\" position or next to `new` operator\n",
    "val p: Person = new Person(\"John\", \"Doe\", 21)\n",
    "\n",
    "// it treats as a object on \"value\" position\n",
    "Person.mkId"
   ]
  },
  {
   "cell_type": "markdown",
   "id": "e7e75cb6-a805-494a-8a2e-2a6897b9a33f",
   "metadata": {},
   "source": [
    "    - a class and its companion object can access each other's private members.\n",
    "    - common use cases are, \n",
    "        1) auxiliary constructors \n",
    "        2) properties belong to a class but are independent of any particular object\n",
    "    - The `apply` method in a singleton object receives special treatment, one can call it like a function application syntax.\n",
    "        - Example: `ObjectName(param)` is similar to `ObjectName.apply(param)`\n",
    "        - it allows to create auxiliary constructors for a class, and cerate an instances of it without using `new` operator."
   ]
  },
  {
   "cell_type": "code",
   "execution_count": 3,
   "id": "2f75c52c-c73e-4b12-9331-231d2ccce833",
   "metadata": {},
   "outputs": [
    {
     "data": {
      "text/plain": [
       "defined \u001b[32mclass\u001b[39m \u001b[36mPerson\u001b[39m\n",
       "defined \u001b[32mobject\u001b[39m \u001b[36mPerson\u001b[39m\n",
       "\u001b[36mj1\u001b[39m: \u001b[32mPerson\u001b[39m = ammonite.$sess.cmd2$Helper$Person@6c484b30\n",
       "\u001b[36mj2\u001b[39m: \u001b[32mPerson\u001b[39m = ammonite.$sess.cmd2$Helper$Person@68ffc788\n",
       "\u001b[36mres2_4\u001b[39m: \u001b[32mBoolean\u001b[39m = false\n",
       "\u001b[36mres2_5\u001b[39m: \u001b[32mBoolean\u001b[39m = true"
      ]
     },
     "execution_count": 3,
     "metadata": {},
     "output_type": "execute_result"
    }
   ],
   "source": [
    "// re-define above class\n",
    "class Person(val firstName: String, val lastName: String, val age: Int) {\n",
    "    def name: String = firstName + \" \" + lastName\n",
    "}\n",
    "\n",
    "object Person {\n",
    "    // properties independent of any particular object\n",
    "    val min = 18\n",
    "    def isMinor(age: Int): Boolean = age < min\n",
    "    // auxiliary constructors\n",
    "    def apply(firstName: String, lastName: String): Person = \n",
    "        new Person(firstName, lastName, min)\n",
    "    def apply(name: String, age: Int): Person = {\n",
    "        val splits = name.split(' ')\n",
    "        new Person(splits(0), splits(1), age)\n",
    "    }\n",
    "}\n",
    "\n",
    "// Person(\"John\", \"Doe\")  == Person.apply(\"John\", \"Doe\")\n",
    "// Person(\"John Doe\", 12) == Person.apply(\"John Doe\", 12)\n",
    "\n",
    "// creating new instances without using `new` operator\n",
    "val j1 = Person(\"John\", \"Doe\")\n",
    "val j2 = Person.apply(\"John Doe\", 12)\n",
    "\n",
    "Person.isMinor(j1.age)\n",
    "Person.isMinor(j2.age)"
   ]
  },
  {
   "cell_type": "markdown",
   "id": "2d7f660c-3700-48fb-a666-f02b5513d383",
   "metadata": {},
   "source": [
    "### case class and case object\n",
    "---\n",
    "\n",
    "- Syntax: `case class <name>(<params>, ...)`"
   ]
  },
  {
   "cell_type": "code",
   "execution_count": 4,
   "id": "b8753169-50ac-4182-b698-33aa8237f097",
   "metadata": {},
   "outputs": [
    {
     "data": {
      "text/plain": [
       "defined \u001b[32mclass\u001b[39m \u001b[36mCalendar\u001b[39m"
      ]
     },
     "execution_count": 4,
     "metadata": {},
     "output_type": "execute_result"
    }
   ],
   "source": [
    "case class Calendar(date: String, time: String)"
   ]
  },
  {
   "cell_type": "markdown",
   "id": "39041e42-d2c3-45d5-a20f-64ff4886a453",
   "metadata": {},
   "source": [
    "- Scala automatically generates a class and a companion object"
   ]
  },
  {
   "cell_type": "code",
   "execution_count": 5,
   "id": "6f7fd077-7c16-4cee-8406-8b422ec94d70",
   "metadata": {},
   "outputs": [
    {
     "data": {
      "text/plain": [
       "\u001b[36mcal\u001b[39m: \u001b[32mCalendar\u001b[39m = \u001b[33mCalendar\u001b[39m(date = \u001b[32m\"05-04-2021\"\u001b[39m, time = \u001b[32m\"07:30:00\"\u001b[39m)\n",
       "\u001b[36mres4_1\u001b[39m: \u001b[32mString\u001b[39m = \u001b[32m\"cmd4.this.cmd3.Calendar\"\u001b[39m\n",
       "\u001b[36mres4_2\u001b[39m: \u001b[32mString\u001b[39m = \u001b[32m\"cmd4.this.cmd3.Calendar.type\"\u001b[39m"
      ]
     },
     "execution_count": 5,
     "metadata": {},
     "output_type": "execute_result"
    }
   ],
   "source": [
    "// `typeOf` notebook only method\n",
    "\n",
    "val cal = Calendar(\"05-04-2021\", \"07:30:00\")\n",
    "typeOf(cal).toString // Calendar\n",
    "typeOf(Calendar).toString // Calendar.type"
   ]
  },
  {
   "cell_type": "markdown",
   "id": "226362ae-58ff-459f-a278-16f4f18dff51",
   "metadata": {},
   "source": [
    "    - constructor params will become class memebers but are immutable, so similar to as defining them as `val`."
   ]
  },
  {
   "cell_type": "code",
   "execution_count": 5,
   "id": "2f79ab38-86d2-49de-a31c-33dd138d228c",
   "metadata": {},
   "outputs": [
    {
     "name": "stderr",
     "output_type": "stream",
     "text": [
      "cmd5.sc:1: reassignment to val\n",
      "val res5 = cal.date = \"05-05-2021\" // error, fields are immutable\n",
      "                    ^Compilation Failed"
     ]
    },
    {
     "ename": "",
     "evalue": "",
     "output_type": "error",
     "traceback": [
      "Compilation Failed"
     ]
    }
   ],
   "source": [
    "cal.date = \"05-05-2021\" // error, fields are immutable"
   ]
  },
  {
   "cell_type": "markdown",
   "id": "c2cec3ea-da7c-4239-8e22-55ed92635edc",
   "metadata": {},
   "source": [
    "    - sensible implementations of `toString`, `equals` and `hashCode` methods.\n",
    "    - a `copy` method, to create new instance with optional param to change value of any members"
   ]
  },
  {
   "cell_type": "code",
   "execution_count": 6,
   "id": "85f611ef-0185-47c6-9ffb-c8f977e6a09d",
   "metadata": {},
   "outputs": [
    {
     "data": {
      "text/plain": [
       "\u001b[36mres5_0\u001b[39m: \u001b[32mString\u001b[39m = \u001b[32m\"Calendar(05-04-2021,07:30:00)\"\u001b[39m\n",
       "\u001b[36mcalUpdated\u001b[39m: \u001b[32mCalendar\u001b[39m = \u001b[33mCalendar\u001b[39m(date = \u001b[32m\"05-05-2021\"\u001b[39m, time = \u001b[32m\"07:30:00\"\u001b[39m)"
      ]
     },
     "execution_count": 6,
     "metadata": {},
     "output_type": "execute_result"
    }
   ],
   "source": [
    "cal.toString // human readable toString\n",
    "val calUpdated = cal.copy(date = \"05-05-2021\") // new object with updated value"
   ]
  },
  {
   "cell_type": "markdown",
   "id": "5ac5fe3a-e86e-434d-bc8e-619ad2e74795",
   "metadata": {},
   "source": [
    "- companion object created with a class has,\n",
    "    - `apply` method with the same arguments as the class constructor\n",
    "        - this allows use to create new instance of case class without invoking `new` operator\n",
    "    - it also implements \"extractor\" to allow patter matching on case classes\n",
    "- case object are useful when a case class has no constructor paramaters\n",
    "    - it's same as a singleton object, and has sensible `toString` implementation"
   ]
  },
  {
   "cell_type": "code",
   "execution_count": 7,
   "id": "7c3f829b-bfae-4991-ae24-a26d1ed919e5",
   "metadata": {},
   "outputs": [
    {
     "data": {
      "text/plain": [
       "defined \u001b[32mobject\u001b[39m \u001b[36mNoParams\u001b[39m"
      ]
     },
     "execution_count": 7,
     "metadata": {},
     "output_type": "execute_result"
    }
   ],
   "source": [
    "// case class NoParams() can be written as case object\n",
    "\n",
    "case object NoParams"
   ]
  },
  {
   "cell_type": "markdown",
   "id": "3d272088-d487-4a38-8fa9-345cb4cd050d",
   "metadata": {},
   "source": [
    "### pattern matching\n",
    "---\n",
    "\n",
    "Syntax:\n",
    "```\n",
    "<selector> match { \n",
    "  case <pattern> => <alternative>\n",
    "  ...\n",
    "}\n",
    "``` "
   ]
  },
  {
   "cell_type": "code",
   "execution_count": 8,
   "id": "a73cd64a-92b6-468e-8312-33a2ae7bc820",
   "metadata": {},
   "outputs": [
    {
     "data": {
      "text/plain": [
       "\u001b[36mres7\u001b[39m: \u001b[32mString\u001b[39m = \u001b[32m\"yes, minor!\"\u001b[39m"
      ]
     },
     "execution_count": 8,
     "metadata": {},
     "output_type": "execute_result"
    }
   ],
   "source": [
    "Person.isMinor(j2.age) match {\n",
    "    case true => \"yes, minor!\"\n",
    "    case false => \"no, adult!\"\n",
    "}"
   ]
  },
  {
   "cell_type": "markdown",
   "id": "7b111e8d-ba5b-4789-847c-c4e15474ecb2",
   "metadata": {},
   "source": [
    "- it's an expression, just like conditional, so it returns a value\n",
    "- kinds\n",
    "    - wildcard pattern\n",
    "        - as a default, catch-all alternative \n",
    "        - to ignore the parts of object that you do not care about\n",
    "    - constant pattern\n",
    "        - matches itself, any literal exression can be used as constant pattern\n",
    "    - variable pattern\n",
    "        - matches any object, but bind it to the name\n",
    "            - a simple name starting with a lowercase letter is taken to be a pattern variable; all other references are taken to be constants.\n",
    "    - constructor pattern (deep matches)\n",
    "        - consists of a name (of a case class) and any nunber of pattern (any kind) in parentheses\n",
    "        - one can write arbitrary nested object match, that's why it called deep matching"
   ]
  },
  {
   "cell_type": "code",
   "execution_count": 9,
   "id": "87647b63-e6e1-49b8-89a7-d3da2f809ed7",
   "metadata": {},
   "outputs": [
    {
     "name": "stdout",
     "output_type": "stream",
     "text": [
      "date is not important\n"
     ]
    },
    {
     "data": {
      "text/plain": [
       "\u001b[32mimport \u001b[39m\u001b[36mscala.math.Pi\n",
       "\n",
       "\u001b[39m\n",
       "\u001b[36mcal\u001b[39m: \u001b[32mCalendar\u001b[39m = \u001b[33mCalendar\u001b[39m(date = \u001b[32m\"05-04-2021\"\u001b[39m, time = \u001b[32m\"07:30:00\"\u001b[39m)\n",
       "defined \u001b[32mfunction\u001b[39m \u001b[36misPi\u001b[39m\n",
       "\u001b[36mres8_4\u001b[39m: \u001b[32mBoolean\u001b[39m = false\n",
       "\u001b[36mres8_5\u001b[39m: \u001b[32mBoolean\u001b[39m = true"
      ]
     },
     "execution_count": 9,
     "metadata": {},
     "output_type": "execute_result"
    }
   ],
   "source": [
    "import scala.math.Pi\n",
    "\n",
    "val cal = Calendar(\"05-04-2021\", \"07:30:00\")\n",
    "\n",
    "cal match {\n",
    "    case Calendar(_, \"07:30:00\") => println(\"date is not important\") // constructor match, wildcard ignore and constant match\n",
    "    case Calendar(date, _) => println(\"date is \" + date) // variable match\n",
    "    case _ => println(\"match any calendar\") // default\n",
    "}\n",
    "\n",
    "def isPi(n: Double): Boolean = n match {\n",
    "    case Pi => true // constant match\n",
    "    case _ => false\n",
    "}\n",
    "\n",
    "isPi(2.1)\n",
    "isPi(Pi)"
   ]
  },
  {
   "cell_type": "markdown",
   "id": "93e953cf-7ce2-410f-89c2-5e06b3cbad24",
   "metadata": {},
   "source": [
    "    - sequence pattern\n",
    "        - match sequence like data structure, Array or List, to match it's length or element at a position\n",
    "        - `_*` in pattern matches any number of elements, including zero elements"
   ]
  },
  {
   "cell_type": "code",
   "execution_count": 10,
   "id": "855439f9-39c6-4a5e-8eab-10c89372c3ac",
   "metadata": {},
   "outputs": [
    {
     "name": "stdout",
     "output_type": "stream",
     "text": [
      "first element is 1 from all three elements\n",
      "first element is 2 from all the elements\n",
      "first element is 2 from all the elements\n",
      "didn't match\n"
     ]
    },
    {
     "data": {
      "text/plain": [
       "defined \u001b[32mfunction\u001b[39m \u001b[36mseqPattern\u001b[39m"
      ]
     },
     "execution_count": 10,
     "metadata": {},
     "output_type": "execute_result"
    }
   ],
   "source": [
    "def seqPattern(ls: List[Int]): Unit = ls match {\n",
    "    case List(1, _, _) => println(\"first element is 1 from all three elements\")\n",
    "    case List(2, _*) => println(\"first element is 2 from all the elements\")\n",
    "    case _ => println(\"didn't match\")\n",
    "}\n",
    "\n",
    "seqPattern(List(1, 2, 3))\n",
    "seqPattern(List(2))\n",
    "seqPattern(List(2, 1, 3, 5, 4))\n",
    "seqPattern(List(10))"
   ]
  },
  {
   "cell_type": "markdown",
   "id": "6649fae7-1774-4209-9d7d-d6abdd6f3264",
   "metadata": {},
   "source": [
    "    - tuple pattern\n",
    "        - matches elemenents enclosed in parantheses"
   ]
  },
  {
   "cell_type": "code",
   "execution_count": 11,
   "id": "bd3f97a7-4dd9-4af8-8a6d-5bc3900ae8ac",
   "metadata": {},
   "outputs": [
    {
     "name": "stdout",
     "output_type": "stream",
     "text": [
      "tuple of three elements\n"
     ]
    },
    {
     "data": {
      "text/plain": [
       "\u001b[36mtup\u001b[39m: (\u001b[32mInt\u001b[39m, \u001b[32mInt\u001b[39m, \u001b[32mInt\u001b[39m) = (\u001b[32m1\u001b[39m, \u001b[32m3\u001b[39m, \u001b[32m2\u001b[39m)"
      ]
     },
     "execution_count": 11,
     "metadata": {},
     "output_type": "execute_result"
    }
   ],
   "source": [
    "val tup = (1, 3, 2)\n",
    "\n",
    "tup match {\n",
    "    case (_, 2, _) => println(\"middle element is 2\")\n",
    "    case (_, _, _) => println(\"tuple of three elements\")\n",
    "    case _ => println(\"didn't match\")\n",
    "}"
   ]
  },
  {
   "cell_type": "markdown",
   "id": "d99ac9e0-0bf7-4bb9-8af8-05771db69935",
   "metadata": {},
   "source": [
    "    - typed pattern\n",
    "        - to match the type of element and access it as a value of that type on the right hand side"
   ]
  },
  {
   "cell_type": "code",
   "execution_count": 12,
   "id": "7e3da3fa-e487-4b04-ad3f-5bb3b69b08be",
   "metadata": {},
   "outputs": [
    {
     "name": "stdout",
     "output_type": "stream",
     "text": [
      "1.0\n",
      "type of 1 is not Int, String or Double.\n",
      "int\n",
      "HELLO WORLD\n"
     ]
    },
    {
     "data": {
      "text/plain": [
       "defined \u001b[32mfunction\u001b[39m \u001b[36mtypedPattern\u001b[39m"
      ]
     },
     "execution_count": 12,
     "metadata": {},
     "output_type": "execute_result"
    }
   ],
   "source": [
    "def typedPattern(x: Any) = x match {\n",
    "    case _: Int => println(\"int\")\n",
    "    case s: String => println(s.toUpperCase)\n",
    "    case d: Double => println(d * d)\n",
    "    case _ => println(\"type of \" + x + \" is not Int, String or Double.\")\n",
    "}\n",
    "\n",
    "typedPattern(1.0)\n",
    "typedPattern(1L)\n",
    "typedPattern(10)\n",
    "typedPattern(\"hello world\")"
   ]
  },
  {
   "cell_type": "markdown",
   "id": "93e95bc3-5901-479a-9c97-680da6f52b8f",
   "metadata": {},
   "source": [
    "- variable binding\n",
    "- pattern guards\n",
    "- pattern overlaps"
   ]
  },
  {
   "cell_type": "code",
   "execution_count": 13,
   "id": "d43b289c-eee1-4c37-b1d7-71d7bdcae43f",
   "metadata": {},
   "outputs": [
    {
     "name": "stdout",
     "output_type": "stream",
     "text": [
      "person's address Address(Bengaluru,908912) is in range.\n",
      "person Aron is from Mumbai.\n",
      "person's address Address(Ahmedabad,908912) is in range.\n"
     ]
    },
    {
     "data": {
      "text/plain": [
       "defined \u001b[32mclass\u001b[39m \u001b[36mAddress\u001b[39m\n",
       "defined \u001b[32mclass\u001b[39m \u001b[36mPerson\u001b[39m\n",
       "defined \u001b[32mfunction\u001b[39m \u001b[36mpincodeRange\u001b[39m\n",
       "defined \u001b[32mfunction\u001b[39m \u001b[36mpattern\u001b[39m"
      ]
     },
     "execution_count": 13,
     "metadata": {},
     "output_type": "execute_result"
    }
   ],
   "source": [
    "case class Address(city: String, pincode: Int)\n",
    "case class Person(name: String, address: Address)\n",
    "\n",
    "def pincodeRange(pincode: Int): Boolean = Random.nextBoolean\n",
    "\n",
    "def pattern(p: Person) = p match {\n",
    "    case Person(name, Address(\"Mumbai\", _)) if name.startsWith(\"A\") => println(\"person \" + name + \" is from Mumbai.\") // pattern guards\n",
    "    case Person(_, addr @ Address(_, pincode)) if pincodeRange(pincode) => println(\"person's address \" + addr + \" is in range.\") // variable binding\n",
    "    case Person(name, Address(city, pincode)) => println(\"matches everything\") // example of overlap\n",
    "    case Person(name, Address(\"Bengaluru\", _)) => println(\"unreachable block\")\n",
    "}\n",
    "\n",
    "pattern(Person(\"Aron\", Address(\"Bengaluru\", 908912)))\n",
    "pattern(Person(\"Aron\", Address(\"Mumbai\", 908912)))\n",
    "pattern(Person(\"Ron\", Address(\"Ahmedabad\", 908912)))"
   ]
  },
  {
   "cell_type": "markdown",
   "id": "3371b2be-1434-49e5-8bdd-9f1ffb369764",
   "metadata": {},
   "source": [
    "### exercise\n",
    "---\n",
    "\n",
    "1) Define a class `Person` with `firstName`, `lastName` and `age` as its members, and come up with a solution so that we can create an instance of `Person` class without using the `new` operator. \n",
    "\n",
    "2) What are the use cases of a companion object, and write down code as examples for each of those.\n",
    "\n",
    "3) What happens when we define a companion object for a case class?\n",
    "\n",
    "```\n",
    "    case class MyInt(value: Int)\n",
    "    object MyInt {\n",
    "      def apply(a: Int, b: Int): MyInt = MyInt(a + b)\n",
    "    }\n",
    "```\n",
    "\n",
    "\n",
    "4) How many types of patterns does Scala `match` expression support?\n",
    "\n",
    "5) What is deep matching? How do you think it reduces the code length?"
   ]
  }
 ],
 "metadata": {
  "kernelspec": {
   "display_name": "Scala",
   "language": "scala",
   "name": "scala"
  },
  "language_info": {
   "codemirror_mode": "text/x-scala",
   "file_extension": ".sc",
   "mimetype": "text/x-scala",
   "name": "scala",
   "nbconvert_exporter": "script",
   "version": "2.13.4"
  }
 },
 "nbformat": 4,
 "nbformat_minor": 5
}
